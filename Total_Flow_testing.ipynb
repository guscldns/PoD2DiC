{
  "nbformat": 4,
  "nbformat_minor": 0,
  "metadata": {
    "colab": {
      "provenance": [],
      "gpuType": "V100",
      "include_colab_link": true
    },
    "kernelspec": {
      "name": "python3",
      "display_name": "Python 3"
    },
    "language_info": {
      "name": "python"
    },
    "accelerator": "GPU",
    "widgets": {
      "application/vnd.jupyter.widget-state+json": {
        "12f5a4c6033c4c45bdf1a22986446c12": {
          "model_module": "@jupyter-widgets/controls",
          "model_name": "HBoxModel",
          "model_module_version": "1.5.0",
          "state": {
            "_dom_classes": [],
            "_model_module": "@jupyter-widgets/controls",
            "_model_module_version": "1.5.0",
            "_model_name": "HBoxModel",
            "_view_count": null,
            "_view_module": "@jupyter-widgets/controls",
            "_view_module_version": "1.5.0",
            "_view_name": "HBoxView",
            "box_style": "",
            "children": [
              "IPY_MODEL_33a11058c2844b9082e937a7e02dd41f",
              "IPY_MODEL_7cf348ecc93f4d15a6f0632de372c6d4",
              "IPY_MODEL_963e3d881b0f40f2b684b0d9ca76f550"
            ],
            "layout": "IPY_MODEL_d975860946bd48e7809e7edcd5f8a002"
          }
        },
        "33a11058c2844b9082e937a7e02dd41f": {
          "model_module": "@jupyter-widgets/controls",
          "model_name": "HTMLModel",
          "model_module_version": "1.5.0",
          "state": {
            "_dom_classes": [],
            "_model_module": "@jupyter-widgets/controls",
            "_model_module_version": "1.5.0",
            "_model_name": "HTMLModel",
            "_view_count": null,
            "_view_module": "@jupyter-widgets/controls",
            "_view_module_version": "1.5.0",
            "_view_name": "HTMLView",
            "description": "",
            "description_tooltip": null,
            "layout": "IPY_MODEL_d34b63d54a0f4052a19220b678ac68b4",
            "placeholder": "​",
            "style": "IPY_MODEL_7a74f19c9dbc4348bc72ae427ed07d08",
            "value": "Downloading (…)okenizer_config.json: 100%"
          }
        },
        "7cf348ecc93f4d15a6f0632de372c6d4": {
          "model_module": "@jupyter-widgets/controls",
          "model_name": "FloatProgressModel",
          "model_module_version": "1.5.0",
          "state": {
            "_dom_classes": [],
            "_model_module": "@jupyter-widgets/controls",
            "_model_module_version": "1.5.0",
            "_model_name": "FloatProgressModel",
            "_view_count": null,
            "_view_module": "@jupyter-widgets/controls",
            "_view_module_version": "1.5.0",
            "_view_name": "ProgressView",
            "bar_style": "success",
            "description": "",
            "description_tooltip": null,
            "layout": "IPY_MODEL_8e0cfee8161e433a9cf05d8d0cf66de3",
            "max": 226,
            "min": 0,
            "orientation": "horizontal",
            "style": "IPY_MODEL_98993d1bf753417caa01eb76ee002257",
            "value": 226
          }
        },
        "963e3d881b0f40f2b684b0d9ca76f550": {
          "model_module": "@jupyter-widgets/controls",
          "model_name": "HTMLModel",
          "model_module_version": "1.5.0",
          "state": {
            "_dom_classes": [],
            "_model_module": "@jupyter-widgets/controls",
            "_model_module_version": "1.5.0",
            "_model_name": "HTMLModel",
            "_view_count": null,
            "_view_module": "@jupyter-widgets/controls",
            "_view_module_version": "1.5.0",
            "_view_name": "HTMLView",
            "description": "",
            "description_tooltip": null,
            "layout": "IPY_MODEL_6a71f88750a943caa9b77c283ec03790",
            "placeholder": "​",
            "style": "IPY_MODEL_965b20b302c545cd904cb85b29c53e46",
            "value": " 226/226 [00:00&lt;00:00, 7.46kB/s]"
          }
        },
        "d975860946bd48e7809e7edcd5f8a002": {
          "model_module": "@jupyter-widgets/base",
          "model_name": "LayoutModel",
          "model_module_version": "1.2.0",
          "state": {
            "_model_module": "@jupyter-widgets/base",
            "_model_module_version": "1.2.0",
            "_model_name": "LayoutModel",
            "_view_count": null,
            "_view_module": "@jupyter-widgets/base",
            "_view_module_version": "1.2.0",
            "_view_name": "LayoutView",
            "align_content": null,
            "align_items": null,
            "align_self": null,
            "border": null,
            "bottom": null,
            "display": null,
            "flex": null,
            "flex_flow": null,
            "grid_area": null,
            "grid_auto_columns": null,
            "grid_auto_flow": null,
            "grid_auto_rows": null,
            "grid_column": null,
            "grid_gap": null,
            "grid_row": null,
            "grid_template_areas": null,
            "grid_template_columns": null,
            "grid_template_rows": null,
            "height": null,
            "justify_content": null,
            "justify_items": null,
            "left": null,
            "margin": null,
            "max_height": null,
            "max_width": null,
            "min_height": null,
            "min_width": null,
            "object_fit": null,
            "object_position": null,
            "order": null,
            "overflow": null,
            "overflow_x": null,
            "overflow_y": null,
            "padding": null,
            "right": null,
            "top": null,
            "visibility": null,
            "width": null
          }
        },
        "d34b63d54a0f4052a19220b678ac68b4": {
          "model_module": "@jupyter-widgets/base",
          "model_name": "LayoutModel",
          "model_module_version": "1.2.0",
          "state": {
            "_model_module": "@jupyter-widgets/base",
            "_model_module_version": "1.2.0",
            "_model_name": "LayoutModel",
            "_view_count": null,
            "_view_module": "@jupyter-widgets/base",
            "_view_module_version": "1.2.0",
            "_view_name": "LayoutView",
            "align_content": null,
            "align_items": null,
            "align_self": null,
            "border": null,
            "bottom": null,
            "display": null,
            "flex": null,
            "flex_flow": null,
            "grid_area": null,
            "grid_auto_columns": null,
            "grid_auto_flow": null,
            "grid_auto_rows": null,
            "grid_column": null,
            "grid_gap": null,
            "grid_row": null,
            "grid_template_areas": null,
            "grid_template_columns": null,
            "grid_template_rows": null,
            "height": null,
            "justify_content": null,
            "justify_items": null,
            "left": null,
            "margin": null,
            "max_height": null,
            "max_width": null,
            "min_height": null,
            "min_width": null,
            "object_fit": null,
            "object_position": null,
            "order": null,
            "overflow": null,
            "overflow_x": null,
            "overflow_y": null,
            "padding": null,
            "right": null,
            "top": null,
            "visibility": null,
            "width": null
          }
        },
        "7a74f19c9dbc4348bc72ae427ed07d08": {
          "model_module": "@jupyter-widgets/controls",
          "model_name": "DescriptionStyleModel",
          "model_module_version": "1.5.0",
          "state": {
            "_model_module": "@jupyter-widgets/controls",
            "_model_module_version": "1.5.0",
            "_model_name": "DescriptionStyleModel",
            "_view_count": null,
            "_view_module": "@jupyter-widgets/base",
            "_view_module_version": "1.2.0",
            "_view_name": "StyleView",
            "description_width": ""
          }
        },
        "8e0cfee8161e433a9cf05d8d0cf66de3": {
          "model_module": "@jupyter-widgets/base",
          "model_name": "LayoutModel",
          "model_module_version": "1.2.0",
          "state": {
            "_model_module": "@jupyter-widgets/base",
            "_model_module_version": "1.2.0",
            "_model_name": "LayoutModel",
            "_view_count": null,
            "_view_module": "@jupyter-widgets/base",
            "_view_module_version": "1.2.0",
            "_view_name": "LayoutView",
            "align_content": null,
            "align_items": null,
            "align_self": null,
            "border": null,
            "bottom": null,
            "display": null,
            "flex": null,
            "flex_flow": null,
            "grid_area": null,
            "grid_auto_columns": null,
            "grid_auto_flow": null,
            "grid_auto_rows": null,
            "grid_column": null,
            "grid_gap": null,
            "grid_row": null,
            "grid_template_areas": null,
            "grid_template_columns": null,
            "grid_template_rows": null,
            "height": null,
            "justify_content": null,
            "justify_items": null,
            "left": null,
            "margin": null,
            "max_height": null,
            "max_width": null,
            "min_height": null,
            "min_width": null,
            "object_fit": null,
            "object_position": null,
            "order": null,
            "overflow": null,
            "overflow_x": null,
            "overflow_y": null,
            "padding": null,
            "right": null,
            "top": null,
            "visibility": null,
            "width": null
          }
        },
        "98993d1bf753417caa01eb76ee002257": {
          "model_module": "@jupyter-widgets/controls",
          "model_name": "ProgressStyleModel",
          "model_module_version": "1.5.0",
          "state": {
            "_model_module": "@jupyter-widgets/controls",
            "_model_module_version": "1.5.0",
            "_model_name": "ProgressStyleModel",
            "_view_count": null,
            "_view_module": "@jupyter-widgets/base",
            "_view_module_version": "1.2.0",
            "_view_name": "StyleView",
            "bar_color": null,
            "description_width": ""
          }
        },
        "6a71f88750a943caa9b77c283ec03790": {
          "model_module": "@jupyter-widgets/base",
          "model_name": "LayoutModel",
          "model_module_version": "1.2.0",
          "state": {
            "_model_module": "@jupyter-widgets/base",
            "_model_module_version": "1.2.0",
            "_model_name": "LayoutModel",
            "_view_count": null,
            "_view_module": "@jupyter-widgets/base",
            "_view_module_version": "1.2.0",
            "_view_name": "LayoutView",
            "align_content": null,
            "align_items": null,
            "align_self": null,
            "border": null,
            "bottom": null,
            "display": null,
            "flex": null,
            "flex_flow": null,
            "grid_area": null,
            "grid_auto_columns": null,
            "grid_auto_flow": null,
            "grid_auto_rows": null,
            "grid_column": null,
            "grid_gap": null,
            "grid_row": null,
            "grid_template_areas": null,
            "grid_template_columns": null,
            "grid_template_rows": null,
            "height": null,
            "justify_content": null,
            "justify_items": null,
            "left": null,
            "margin": null,
            "max_height": null,
            "max_width": null,
            "min_height": null,
            "min_width": null,
            "object_fit": null,
            "object_position": null,
            "order": null,
            "overflow": null,
            "overflow_x": null,
            "overflow_y": null,
            "padding": null,
            "right": null,
            "top": null,
            "visibility": null,
            "width": null
          }
        },
        "965b20b302c545cd904cb85b29c53e46": {
          "model_module": "@jupyter-widgets/controls",
          "model_name": "DescriptionStyleModel",
          "model_module_version": "1.5.0",
          "state": {
            "_model_module": "@jupyter-widgets/controls",
            "_model_module_version": "1.5.0",
            "_model_name": "DescriptionStyleModel",
            "_view_count": null,
            "_view_module": "@jupyter-widgets/base",
            "_view_module_version": "1.2.0",
            "_view_name": "StyleView",
            "description_width": ""
          }
        },
        "6a5df56bc74144c59b4b6f3202ce5757": {
          "model_module": "@jupyter-widgets/controls",
          "model_name": "HBoxModel",
          "model_module_version": "1.5.0",
          "state": {
            "_dom_classes": [],
            "_model_module": "@jupyter-widgets/controls",
            "_model_module_version": "1.5.0",
            "_model_name": "HBoxModel",
            "_view_count": null,
            "_view_module": "@jupyter-widgets/controls",
            "_view_module_version": "1.5.0",
            "_view_name": "HBoxView",
            "box_style": "",
            "children": [
              "IPY_MODEL_c065884c936f45c98c09fe40feddc438",
              "IPY_MODEL_03465a4d693c44df9533d0723c531643",
              "IPY_MODEL_8307c5c340ec48deab46bb88ff650977"
            ],
            "layout": "IPY_MODEL_bf543569f8bc4087954deb0140b8b1b6"
          }
        },
        "c065884c936f45c98c09fe40feddc438": {
          "model_module": "@jupyter-widgets/controls",
          "model_name": "HTMLModel",
          "model_module_version": "1.5.0",
          "state": {
            "_dom_classes": [],
            "_model_module": "@jupyter-widgets/controls",
            "_model_module_version": "1.5.0",
            "_model_name": "HTMLModel",
            "_view_count": null,
            "_view_module": "@jupyter-widgets/controls",
            "_view_module_version": "1.5.0",
            "_view_name": "HTMLView",
            "description": "",
            "description_tooltip": null,
            "layout": "IPY_MODEL_bc1b94ecab0a4f6095ed5549bc6e7ea1",
            "placeholder": "​",
            "style": "IPY_MODEL_fc5e149360e24b22a5764e889abdd493",
            "value": "Downloading (…)/main/tokenizer.json: 100%"
          }
        },
        "03465a4d693c44df9533d0723c531643": {
          "model_module": "@jupyter-widgets/controls",
          "model_name": "FloatProgressModel",
          "model_module_version": "1.5.0",
          "state": {
            "_dom_classes": [],
            "_model_module": "@jupyter-widgets/controls",
            "_model_module_version": "1.5.0",
            "_model_name": "FloatProgressModel",
            "_view_count": null,
            "_view_module": "@jupyter-widgets/controls",
            "_view_module_version": "1.5.0",
            "_view_name": "ProgressView",
            "bar_style": "success",
            "description": "",
            "description_tooltip": null,
            "layout": "IPY_MODEL_837d03b256f444d8bdec77866c09f5fe",
            "max": 1516013,
            "min": 0,
            "orientation": "horizontal",
            "style": "IPY_MODEL_705a9ee17d794e31867e3f0bb0cf5cb1",
            "value": 1516013
          }
        },
        "8307c5c340ec48deab46bb88ff650977": {
          "model_module": "@jupyter-widgets/controls",
          "model_name": "HTMLModel",
          "model_module_version": "1.5.0",
          "state": {
            "_dom_classes": [],
            "_model_module": "@jupyter-widgets/controls",
            "_model_module_version": "1.5.0",
            "_model_name": "HTMLModel",
            "_view_count": null,
            "_view_module": "@jupyter-widgets/controls",
            "_view_module_version": "1.5.0",
            "_view_name": "HTMLView",
            "description": "",
            "description_tooltip": null,
            "layout": "IPY_MODEL_69e0a676ce6f47fbb6c975f7990683e7",
            "placeholder": "​",
            "style": "IPY_MODEL_cefdff42877749f29b00a7d7aa4675a9",
            "value": " 1.52M/1.52M [00:00&lt;00:00, 4.68MB/s]"
          }
        },
        "bf543569f8bc4087954deb0140b8b1b6": {
          "model_module": "@jupyter-widgets/base",
          "model_name": "LayoutModel",
          "model_module_version": "1.2.0",
          "state": {
            "_model_module": "@jupyter-widgets/base",
            "_model_module_version": "1.2.0",
            "_model_name": "LayoutModel",
            "_view_count": null,
            "_view_module": "@jupyter-widgets/base",
            "_view_module_version": "1.2.0",
            "_view_name": "LayoutView",
            "align_content": null,
            "align_items": null,
            "align_self": null,
            "border": null,
            "bottom": null,
            "display": null,
            "flex": null,
            "flex_flow": null,
            "grid_area": null,
            "grid_auto_columns": null,
            "grid_auto_flow": null,
            "grid_auto_rows": null,
            "grid_column": null,
            "grid_gap": null,
            "grid_row": null,
            "grid_template_areas": null,
            "grid_template_columns": null,
            "grid_template_rows": null,
            "height": null,
            "justify_content": null,
            "justify_items": null,
            "left": null,
            "margin": null,
            "max_height": null,
            "max_width": null,
            "min_height": null,
            "min_width": null,
            "object_fit": null,
            "object_position": null,
            "order": null,
            "overflow": null,
            "overflow_x": null,
            "overflow_y": null,
            "padding": null,
            "right": null,
            "top": null,
            "visibility": null,
            "width": null
          }
        },
        "bc1b94ecab0a4f6095ed5549bc6e7ea1": {
          "model_module": "@jupyter-widgets/base",
          "model_name": "LayoutModel",
          "model_module_version": "1.2.0",
          "state": {
            "_model_module": "@jupyter-widgets/base",
            "_model_module_version": "1.2.0",
            "_model_name": "LayoutModel",
            "_view_count": null,
            "_view_module": "@jupyter-widgets/base",
            "_view_module_version": "1.2.0",
            "_view_name": "LayoutView",
            "align_content": null,
            "align_items": null,
            "align_self": null,
            "border": null,
            "bottom": null,
            "display": null,
            "flex": null,
            "flex_flow": null,
            "grid_area": null,
            "grid_auto_columns": null,
            "grid_auto_flow": null,
            "grid_auto_rows": null,
            "grid_column": null,
            "grid_gap": null,
            "grid_row": null,
            "grid_template_areas": null,
            "grid_template_columns": null,
            "grid_template_rows": null,
            "height": null,
            "justify_content": null,
            "justify_items": null,
            "left": null,
            "margin": null,
            "max_height": null,
            "max_width": null,
            "min_height": null,
            "min_width": null,
            "object_fit": null,
            "object_position": null,
            "order": null,
            "overflow": null,
            "overflow_x": null,
            "overflow_y": null,
            "padding": null,
            "right": null,
            "top": null,
            "visibility": null,
            "width": null
          }
        },
        "fc5e149360e24b22a5764e889abdd493": {
          "model_module": "@jupyter-widgets/controls",
          "model_name": "DescriptionStyleModel",
          "model_module_version": "1.5.0",
          "state": {
            "_model_module": "@jupyter-widgets/controls",
            "_model_module_version": "1.5.0",
            "_model_name": "DescriptionStyleModel",
            "_view_count": null,
            "_view_module": "@jupyter-widgets/base",
            "_view_module_version": "1.2.0",
            "_view_name": "StyleView",
            "description_width": ""
          }
        },
        "837d03b256f444d8bdec77866c09f5fe": {
          "model_module": "@jupyter-widgets/base",
          "model_name": "LayoutModel",
          "model_module_version": "1.2.0",
          "state": {
            "_model_module": "@jupyter-widgets/base",
            "_model_module_version": "1.2.0",
            "_model_name": "LayoutModel",
            "_view_count": null,
            "_view_module": "@jupyter-widgets/base",
            "_view_module_version": "1.2.0",
            "_view_name": "LayoutView",
            "align_content": null,
            "align_items": null,
            "align_self": null,
            "border": null,
            "bottom": null,
            "display": null,
            "flex": null,
            "flex_flow": null,
            "grid_area": null,
            "grid_auto_columns": null,
            "grid_auto_flow": null,
            "grid_auto_rows": null,
            "grid_column": null,
            "grid_gap": null,
            "grid_row": null,
            "grid_template_areas": null,
            "grid_template_columns": null,
            "grid_template_rows": null,
            "height": null,
            "justify_content": null,
            "justify_items": null,
            "left": null,
            "margin": null,
            "max_height": null,
            "max_width": null,
            "min_height": null,
            "min_width": null,
            "object_fit": null,
            "object_position": null,
            "order": null,
            "overflow": null,
            "overflow_x": null,
            "overflow_y": null,
            "padding": null,
            "right": null,
            "top": null,
            "visibility": null,
            "width": null
          }
        },
        "705a9ee17d794e31867e3f0bb0cf5cb1": {
          "model_module": "@jupyter-widgets/controls",
          "model_name": "ProgressStyleModel",
          "model_module_version": "1.5.0",
          "state": {
            "_model_module": "@jupyter-widgets/controls",
            "_model_module_version": "1.5.0",
            "_model_name": "ProgressStyleModel",
            "_view_count": null,
            "_view_module": "@jupyter-widgets/base",
            "_view_module_version": "1.2.0",
            "_view_name": "StyleView",
            "bar_color": null,
            "description_width": ""
          }
        },
        "69e0a676ce6f47fbb6c975f7990683e7": {
          "model_module": "@jupyter-widgets/base",
          "model_name": "LayoutModel",
          "model_module_version": "1.2.0",
          "state": {
            "_model_module": "@jupyter-widgets/base",
            "_model_module_version": "1.2.0",
            "_model_name": "LayoutModel",
            "_view_count": null,
            "_view_module": "@jupyter-widgets/base",
            "_view_module_version": "1.2.0",
            "_view_name": "LayoutView",
            "align_content": null,
            "align_items": null,
            "align_self": null,
            "border": null,
            "bottom": null,
            "display": null,
            "flex": null,
            "flex_flow": null,
            "grid_area": null,
            "grid_auto_columns": null,
            "grid_auto_flow": null,
            "grid_auto_rows": null,
            "grid_column": null,
            "grid_gap": null,
            "grid_row": null,
            "grid_template_areas": null,
            "grid_template_columns": null,
            "grid_template_rows": null,
            "height": null,
            "justify_content": null,
            "justify_items": null,
            "left": null,
            "margin": null,
            "max_height": null,
            "max_width": null,
            "min_height": null,
            "min_width": null,
            "object_fit": null,
            "object_position": null,
            "order": null,
            "overflow": null,
            "overflow_x": null,
            "overflow_y": null,
            "padding": null,
            "right": null,
            "top": null,
            "visibility": null,
            "width": null
          }
        },
        "cefdff42877749f29b00a7d7aa4675a9": {
          "model_module": "@jupyter-widgets/controls",
          "model_name": "DescriptionStyleModel",
          "model_module_version": "1.5.0",
          "state": {
            "_model_module": "@jupyter-widgets/controls",
            "_model_module_version": "1.5.0",
            "_model_name": "DescriptionStyleModel",
            "_view_count": null,
            "_view_module": "@jupyter-widgets/base",
            "_view_module_version": "1.2.0",
            "_view_name": "StyleView",
            "description_width": ""
          }
        },
        "aa63f1b827a846d396894b8a99fefe22": {
          "model_module": "@jupyter-widgets/controls",
          "model_name": "HBoxModel",
          "model_module_version": "1.5.0",
          "state": {
            "_dom_classes": [],
            "_model_module": "@jupyter-widgets/controls",
            "_model_module_version": "1.5.0",
            "_model_name": "HBoxModel",
            "_view_count": null,
            "_view_module": "@jupyter-widgets/controls",
            "_view_module_version": "1.5.0",
            "_view_name": "HBoxView",
            "box_style": "",
            "children": [
              "IPY_MODEL_9b65b3a491a74fea89100c43dbe83fb1",
              "IPY_MODEL_332881a178324c059d6c3da11c18f037",
              "IPY_MODEL_269e7cfe247d4e9a8474baf0d2b630b0"
            ],
            "layout": "IPY_MODEL_cf636caa64ca4ef995ce341ae4b00c32"
          }
        },
        "9b65b3a491a74fea89100c43dbe83fb1": {
          "model_module": "@jupyter-widgets/controls",
          "model_name": "HTMLModel",
          "model_module_version": "1.5.0",
          "state": {
            "_dom_classes": [],
            "_model_module": "@jupyter-widgets/controls",
            "_model_module_version": "1.5.0",
            "_model_name": "HTMLModel",
            "_view_count": null,
            "_view_module": "@jupyter-widgets/controls",
            "_view_module_version": "1.5.0",
            "_view_name": "HTMLView",
            "description": "",
            "description_tooltip": null,
            "layout": "IPY_MODEL_f40fd14c124c4a60aeaff428e445e2ee",
            "placeholder": "​",
            "style": "IPY_MODEL_d93dc88d6c214692a88dd5c7727ed9eb",
            "value": "Downloading (…)cial_tokens_map.json: 100%"
          }
        },
        "332881a178324c059d6c3da11c18f037": {
          "model_module": "@jupyter-widgets/controls",
          "model_name": "FloatProgressModel",
          "model_module_version": "1.5.0",
          "state": {
            "_dom_classes": [],
            "_model_module": "@jupyter-widgets/controls",
            "_model_module_version": "1.5.0",
            "_model_name": "FloatProgressModel",
            "_view_count": null,
            "_view_module": "@jupyter-widgets/controls",
            "_view_module_version": "1.5.0",
            "_view_name": "ProgressView",
            "bar_style": "success",
            "description": "",
            "description_tooltip": null,
            "layout": "IPY_MODEL_dde08b5e9ed44844933145a5992f1146",
            "max": 155,
            "min": 0,
            "orientation": "horizontal",
            "style": "IPY_MODEL_2eda3985a4c7453ebf304cb89cf54593",
            "value": 155
          }
        },
        "269e7cfe247d4e9a8474baf0d2b630b0": {
          "model_module": "@jupyter-widgets/controls",
          "model_name": "HTMLModel",
          "model_module_version": "1.5.0",
          "state": {
            "_dom_classes": [],
            "_model_module": "@jupyter-widgets/controls",
            "_model_module_version": "1.5.0",
            "_model_name": "HTMLModel",
            "_view_count": null,
            "_view_module": "@jupyter-widgets/controls",
            "_view_module_version": "1.5.0",
            "_view_name": "HTMLView",
            "description": "",
            "description_tooltip": null,
            "layout": "IPY_MODEL_941d42137acf42ad80300ee0e15e416a",
            "placeholder": "​",
            "style": "IPY_MODEL_892591568205471495d30b49316059f3",
            "value": " 155/155 [00:00&lt;00:00, 2.05kB/s]"
          }
        },
        "cf636caa64ca4ef995ce341ae4b00c32": {
          "model_module": "@jupyter-widgets/base",
          "model_name": "LayoutModel",
          "model_module_version": "1.2.0",
          "state": {
            "_model_module": "@jupyter-widgets/base",
            "_model_module_version": "1.2.0",
            "_model_name": "LayoutModel",
            "_view_count": null,
            "_view_module": "@jupyter-widgets/base",
            "_view_module_version": "1.2.0",
            "_view_name": "LayoutView",
            "align_content": null,
            "align_items": null,
            "align_self": null,
            "border": null,
            "bottom": null,
            "display": null,
            "flex": null,
            "flex_flow": null,
            "grid_area": null,
            "grid_auto_columns": null,
            "grid_auto_flow": null,
            "grid_auto_rows": null,
            "grid_column": null,
            "grid_gap": null,
            "grid_row": null,
            "grid_template_areas": null,
            "grid_template_columns": null,
            "grid_template_rows": null,
            "height": null,
            "justify_content": null,
            "justify_items": null,
            "left": null,
            "margin": null,
            "max_height": null,
            "max_width": null,
            "min_height": null,
            "min_width": null,
            "object_fit": null,
            "object_position": null,
            "order": null,
            "overflow": null,
            "overflow_x": null,
            "overflow_y": null,
            "padding": null,
            "right": null,
            "top": null,
            "visibility": null,
            "width": null
          }
        },
        "f40fd14c124c4a60aeaff428e445e2ee": {
          "model_module": "@jupyter-widgets/base",
          "model_name": "LayoutModel",
          "model_module_version": "1.2.0",
          "state": {
            "_model_module": "@jupyter-widgets/base",
            "_model_module_version": "1.2.0",
            "_model_name": "LayoutModel",
            "_view_count": null,
            "_view_module": "@jupyter-widgets/base",
            "_view_module_version": "1.2.0",
            "_view_name": "LayoutView",
            "align_content": null,
            "align_items": null,
            "align_self": null,
            "border": null,
            "bottom": null,
            "display": null,
            "flex": null,
            "flex_flow": null,
            "grid_area": null,
            "grid_auto_columns": null,
            "grid_auto_flow": null,
            "grid_auto_rows": null,
            "grid_column": null,
            "grid_gap": null,
            "grid_row": null,
            "grid_template_areas": null,
            "grid_template_columns": null,
            "grid_template_rows": null,
            "height": null,
            "justify_content": null,
            "justify_items": null,
            "left": null,
            "margin": null,
            "max_height": null,
            "max_width": null,
            "min_height": null,
            "min_width": null,
            "object_fit": null,
            "object_position": null,
            "order": null,
            "overflow": null,
            "overflow_x": null,
            "overflow_y": null,
            "padding": null,
            "right": null,
            "top": null,
            "visibility": null,
            "width": null
          }
        },
        "d93dc88d6c214692a88dd5c7727ed9eb": {
          "model_module": "@jupyter-widgets/controls",
          "model_name": "DescriptionStyleModel",
          "model_module_version": "1.5.0",
          "state": {
            "_model_module": "@jupyter-widgets/controls",
            "_model_module_version": "1.5.0",
            "_model_name": "DescriptionStyleModel",
            "_view_count": null,
            "_view_module": "@jupyter-widgets/base",
            "_view_module_version": "1.2.0",
            "_view_name": "StyleView",
            "description_width": ""
          }
        },
        "dde08b5e9ed44844933145a5992f1146": {
          "model_module": "@jupyter-widgets/base",
          "model_name": "LayoutModel",
          "model_module_version": "1.2.0",
          "state": {
            "_model_module": "@jupyter-widgets/base",
            "_model_module_version": "1.2.0",
            "_model_name": "LayoutModel",
            "_view_count": null,
            "_view_module": "@jupyter-widgets/base",
            "_view_module_version": "1.2.0",
            "_view_name": "LayoutView",
            "align_content": null,
            "align_items": null,
            "align_self": null,
            "border": null,
            "bottom": null,
            "display": null,
            "flex": null,
            "flex_flow": null,
            "grid_area": null,
            "grid_auto_columns": null,
            "grid_auto_flow": null,
            "grid_auto_rows": null,
            "grid_column": null,
            "grid_gap": null,
            "grid_row": null,
            "grid_template_areas": null,
            "grid_template_columns": null,
            "grid_template_rows": null,
            "height": null,
            "justify_content": null,
            "justify_items": null,
            "left": null,
            "margin": null,
            "max_height": null,
            "max_width": null,
            "min_height": null,
            "min_width": null,
            "object_fit": null,
            "object_position": null,
            "order": null,
            "overflow": null,
            "overflow_x": null,
            "overflow_y": null,
            "padding": null,
            "right": null,
            "top": null,
            "visibility": null,
            "width": null
          }
        },
        "2eda3985a4c7453ebf304cb89cf54593": {
          "model_module": "@jupyter-widgets/controls",
          "model_name": "ProgressStyleModel",
          "model_module_version": "1.5.0",
          "state": {
            "_model_module": "@jupyter-widgets/controls",
            "_model_module_version": "1.5.0",
            "_model_name": "ProgressStyleModel",
            "_view_count": null,
            "_view_module": "@jupyter-widgets/base",
            "_view_module_version": "1.2.0",
            "_view_name": "StyleView",
            "bar_color": null,
            "description_width": ""
          }
        },
        "941d42137acf42ad80300ee0e15e416a": {
          "model_module": "@jupyter-widgets/base",
          "model_name": "LayoutModel",
          "model_module_version": "1.2.0",
          "state": {
            "_model_module": "@jupyter-widgets/base",
            "_model_module_version": "1.2.0",
            "_model_name": "LayoutModel",
            "_view_count": null,
            "_view_module": "@jupyter-widgets/base",
            "_view_module_version": "1.2.0",
            "_view_name": "LayoutView",
            "align_content": null,
            "align_items": null,
            "align_self": null,
            "border": null,
            "bottom": null,
            "display": null,
            "flex": null,
            "flex_flow": null,
            "grid_area": null,
            "grid_auto_columns": null,
            "grid_auto_flow": null,
            "grid_auto_rows": null,
            "grid_column": null,
            "grid_gap": null,
            "grid_row": null,
            "grid_template_areas": null,
            "grid_template_columns": null,
            "grid_template_rows": null,
            "height": null,
            "justify_content": null,
            "justify_items": null,
            "left": null,
            "margin": null,
            "max_height": null,
            "max_width": null,
            "min_height": null,
            "min_width": null,
            "object_fit": null,
            "object_position": null,
            "order": null,
            "overflow": null,
            "overflow_x": null,
            "overflow_y": null,
            "padding": null,
            "right": null,
            "top": null,
            "visibility": null,
            "width": null
          }
        },
        "892591568205471495d30b49316059f3": {
          "model_module": "@jupyter-widgets/controls",
          "model_name": "DescriptionStyleModel",
          "model_module_version": "1.5.0",
          "state": {
            "_model_module": "@jupyter-widgets/controls",
            "_model_module_version": "1.5.0",
            "_model_name": "DescriptionStyleModel",
            "_view_count": null,
            "_view_module": "@jupyter-widgets/base",
            "_view_module_version": "1.2.0",
            "_view_name": "StyleView",
            "description_width": ""
          }
        },
        "e85c1afdcd6f4635bde69a7cce76fd9b": {
          "model_module": "@jupyter-widgets/controls",
          "model_name": "HBoxModel",
          "model_module_version": "1.5.0",
          "state": {
            "_dom_classes": [],
            "_model_module": "@jupyter-widgets/controls",
            "_model_module_version": "1.5.0",
            "_model_name": "HBoxModel",
            "_view_count": null,
            "_view_module": "@jupyter-widgets/controls",
            "_view_module_version": "1.5.0",
            "_view_name": "HBoxView",
            "box_style": "",
            "children": [
              "IPY_MODEL_9a3b6234286d4e5795eae48999986d5c",
              "IPY_MODEL_14083288385d4c14a2c8350418d0ce49",
              "IPY_MODEL_c1088d4e691e41bcb5ad19ef04d7fa1c"
            ],
            "layout": "IPY_MODEL_b8564b52fe8042fe9dd5b56ec27c6a52"
          }
        },
        "9a3b6234286d4e5795eae48999986d5c": {
          "model_module": "@jupyter-widgets/controls",
          "model_name": "HTMLModel",
          "model_module_version": "1.5.0",
          "state": {
            "_dom_classes": [],
            "_model_module": "@jupyter-widgets/controls",
            "_model_module_version": "1.5.0",
            "_model_name": "HTMLModel",
            "_view_count": null,
            "_view_module": "@jupyter-widgets/controls",
            "_view_module_version": "1.5.0",
            "_view_name": "HTMLView",
            "description": "",
            "description_tooltip": null,
            "layout": "IPY_MODEL_5ff87a9e305146dab83a61a6182673d0",
            "placeholder": "​",
            "style": "IPY_MODEL_ae552cedcf1c4a0e812bce9eaab40409",
            "value": "Downloading (…)lve/main/config.json: 100%"
          }
        },
        "14083288385d4c14a2c8350418d0ce49": {
          "model_module": "@jupyter-widgets/controls",
          "model_name": "FloatProgressModel",
          "model_module_version": "1.5.0",
          "state": {
            "_dom_classes": [],
            "_model_module": "@jupyter-widgets/controls",
            "_model_module_version": "1.5.0",
            "_model_name": "FloatProgressModel",
            "_view_count": null,
            "_view_module": "@jupyter-widgets/controls",
            "_view_module_version": "1.5.0",
            "_view_name": "ProgressView",
            "bar_style": "success",
            "description": "",
            "description_tooltip": null,
            "layout": "IPY_MODEL_43a801beb15d46eb83a321284e478bd9",
            "max": 1180,
            "min": 0,
            "orientation": "horizontal",
            "style": "IPY_MODEL_b3ec4ce6d729472ab850b7616dbf5599",
            "value": 1180
          }
        },
        "c1088d4e691e41bcb5ad19ef04d7fa1c": {
          "model_module": "@jupyter-widgets/controls",
          "model_name": "HTMLModel",
          "model_module_version": "1.5.0",
          "state": {
            "_dom_classes": [],
            "_model_module": "@jupyter-widgets/controls",
            "_model_module_version": "1.5.0",
            "_model_name": "HTMLModel",
            "_view_count": null,
            "_view_module": "@jupyter-widgets/controls",
            "_view_module_version": "1.5.0",
            "_view_name": "HTMLView",
            "description": "",
            "description_tooltip": null,
            "layout": "IPY_MODEL_684b03dd9a71493682db5bc31af1799c",
            "placeholder": "​",
            "style": "IPY_MODEL_11f59219cf6245b49c480f49b796412c",
            "value": " 1.18k/1.18k [00:00&lt;00:00, 31.2kB/s]"
          }
        },
        "b8564b52fe8042fe9dd5b56ec27c6a52": {
          "model_module": "@jupyter-widgets/base",
          "model_name": "LayoutModel",
          "model_module_version": "1.2.0",
          "state": {
            "_model_module": "@jupyter-widgets/base",
            "_model_module_version": "1.2.0",
            "_model_name": "LayoutModel",
            "_view_count": null,
            "_view_module": "@jupyter-widgets/base",
            "_view_module_version": "1.2.0",
            "_view_name": "LayoutView",
            "align_content": null,
            "align_items": null,
            "align_self": null,
            "border": null,
            "bottom": null,
            "display": null,
            "flex": null,
            "flex_flow": null,
            "grid_area": null,
            "grid_auto_columns": null,
            "grid_auto_flow": null,
            "grid_auto_rows": null,
            "grid_column": null,
            "grid_gap": null,
            "grid_row": null,
            "grid_template_areas": null,
            "grid_template_columns": null,
            "grid_template_rows": null,
            "height": null,
            "justify_content": null,
            "justify_items": null,
            "left": null,
            "margin": null,
            "max_height": null,
            "max_width": null,
            "min_height": null,
            "min_width": null,
            "object_fit": null,
            "object_position": null,
            "order": null,
            "overflow": null,
            "overflow_x": null,
            "overflow_y": null,
            "padding": null,
            "right": null,
            "top": null,
            "visibility": null,
            "width": null
          }
        },
        "5ff87a9e305146dab83a61a6182673d0": {
          "model_module": "@jupyter-widgets/base",
          "model_name": "LayoutModel",
          "model_module_version": "1.2.0",
          "state": {
            "_model_module": "@jupyter-widgets/base",
            "_model_module_version": "1.2.0",
            "_model_name": "LayoutModel",
            "_view_count": null,
            "_view_module": "@jupyter-widgets/base",
            "_view_module_version": "1.2.0",
            "_view_name": "LayoutView",
            "align_content": null,
            "align_items": null,
            "align_self": null,
            "border": null,
            "bottom": null,
            "display": null,
            "flex": null,
            "flex_flow": null,
            "grid_area": null,
            "grid_auto_columns": null,
            "grid_auto_flow": null,
            "grid_auto_rows": null,
            "grid_column": null,
            "grid_gap": null,
            "grid_row": null,
            "grid_template_areas": null,
            "grid_template_columns": null,
            "grid_template_rows": null,
            "height": null,
            "justify_content": null,
            "justify_items": null,
            "left": null,
            "margin": null,
            "max_height": null,
            "max_width": null,
            "min_height": null,
            "min_width": null,
            "object_fit": null,
            "object_position": null,
            "order": null,
            "overflow": null,
            "overflow_x": null,
            "overflow_y": null,
            "padding": null,
            "right": null,
            "top": null,
            "visibility": null,
            "width": null
          }
        },
        "ae552cedcf1c4a0e812bce9eaab40409": {
          "model_module": "@jupyter-widgets/controls",
          "model_name": "DescriptionStyleModel",
          "model_module_version": "1.5.0",
          "state": {
            "_model_module": "@jupyter-widgets/controls",
            "_model_module_version": "1.5.0",
            "_model_name": "DescriptionStyleModel",
            "_view_count": null,
            "_view_module": "@jupyter-widgets/base",
            "_view_module_version": "1.2.0",
            "_view_name": "StyleView",
            "description_width": ""
          }
        },
        "43a801beb15d46eb83a321284e478bd9": {
          "model_module": "@jupyter-widgets/base",
          "model_name": "LayoutModel",
          "model_module_version": "1.2.0",
          "state": {
            "_model_module": "@jupyter-widgets/base",
            "_model_module_version": "1.2.0",
            "_model_name": "LayoutModel",
            "_view_count": null,
            "_view_module": "@jupyter-widgets/base",
            "_view_module_version": "1.2.0",
            "_view_name": "LayoutView",
            "align_content": null,
            "align_items": null,
            "align_self": null,
            "border": null,
            "bottom": null,
            "display": null,
            "flex": null,
            "flex_flow": null,
            "grid_area": null,
            "grid_auto_columns": null,
            "grid_auto_flow": null,
            "grid_auto_rows": null,
            "grid_column": null,
            "grid_gap": null,
            "grid_row": null,
            "grid_template_areas": null,
            "grid_template_columns": null,
            "grid_template_rows": null,
            "height": null,
            "justify_content": null,
            "justify_items": null,
            "left": null,
            "margin": null,
            "max_height": null,
            "max_width": null,
            "min_height": null,
            "min_width": null,
            "object_fit": null,
            "object_position": null,
            "order": null,
            "overflow": null,
            "overflow_x": null,
            "overflow_y": null,
            "padding": null,
            "right": null,
            "top": null,
            "visibility": null,
            "width": null
          }
        },
        "b3ec4ce6d729472ab850b7616dbf5599": {
          "model_module": "@jupyter-widgets/controls",
          "model_name": "ProgressStyleModel",
          "model_module_version": "1.5.0",
          "state": {
            "_model_module": "@jupyter-widgets/controls",
            "_model_module_version": "1.5.0",
            "_model_name": "ProgressStyleModel",
            "_view_count": null,
            "_view_module": "@jupyter-widgets/base",
            "_view_module_version": "1.2.0",
            "_view_name": "StyleView",
            "bar_color": null,
            "description_width": ""
          }
        },
        "684b03dd9a71493682db5bc31af1799c": {
          "model_module": "@jupyter-widgets/base",
          "model_name": "LayoutModel",
          "model_module_version": "1.2.0",
          "state": {
            "_model_module": "@jupyter-widgets/base",
            "_model_module_version": "1.2.0",
            "_model_name": "LayoutModel",
            "_view_count": null,
            "_view_module": "@jupyter-widgets/base",
            "_view_module_version": "1.2.0",
            "_view_name": "LayoutView",
            "align_content": null,
            "align_items": null,
            "align_self": null,
            "border": null,
            "bottom": null,
            "display": null,
            "flex": null,
            "flex_flow": null,
            "grid_area": null,
            "grid_auto_columns": null,
            "grid_auto_flow": null,
            "grid_auto_rows": null,
            "grid_column": null,
            "grid_gap": null,
            "grid_row": null,
            "grid_template_areas": null,
            "grid_template_columns": null,
            "grid_template_rows": null,
            "height": null,
            "justify_content": null,
            "justify_items": null,
            "left": null,
            "margin": null,
            "max_height": null,
            "max_width": null,
            "min_height": null,
            "min_width": null,
            "object_fit": null,
            "object_position": null,
            "order": null,
            "overflow": null,
            "overflow_x": null,
            "overflow_y": null,
            "padding": null,
            "right": null,
            "top": null,
            "visibility": null,
            "width": null
          }
        },
        "11f59219cf6245b49c480f49b796412c": {
          "model_module": "@jupyter-widgets/controls",
          "model_name": "DescriptionStyleModel",
          "model_module_version": "1.5.0",
          "state": {
            "_model_module": "@jupyter-widgets/controls",
            "_model_module_version": "1.5.0",
            "_model_name": "DescriptionStyleModel",
            "_view_count": null,
            "_view_module": "@jupyter-widgets/base",
            "_view_module_version": "1.2.0",
            "_view_name": "StyleView",
            "description_width": ""
          }
        },
        "a99002dd9a1148e88142d7ba47591aad": {
          "model_module": "@jupyter-widgets/controls",
          "model_name": "HBoxModel",
          "model_module_version": "1.5.0",
          "state": {
            "_dom_classes": [],
            "_model_module": "@jupyter-widgets/controls",
            "_model_module_version": "1.5.0",
            "_model_name": "HBoxModel",
            "_view_count": null,
            "_view_module": "@jupyter-widgets/controls",
            "_view_module_version": "1.5.0",
            "_view_name": "HBoxView",
            "box_style": "",
            "children": [
              "IPY_MODEL_0c07db966d454b61a8e102ee0b8219fc",
              "IPY_MODEL_5b3a80bf80c049bc98e3586a4d65df31",
              "IPY_MODEL_e575236a94aa4a44831783acc3036867"
            ],
            "layout": "IPY_MODEL_4b30ca9cc95a439db58d065dcf5fb440"
          }
        },
        "0c07db966d454b61a8e102ee0b8219fc": {
          "model_module": "@jupyter-widgets/controls",
          "model_name": "HTMLModel",
          "model_module_version": "1.5.0",
          "state": {
            "_dom_classes": [],
            "_model_module": "@jupyter-widgets/controls",
            "_model_module_version": "1.5.0",
            "_model_name": "HTMLModel",
            "_view_count": null,
            "_view_module": "@jupyter-widgets/controls",
            "_view_module_version": "1.5.0",
            "_view_name": "HTMLView",
            "description": "",
            "description_tooltip": null,
            "layout": "IPY_MODEL_319e17cb1749499c80d6ded4dfcb6cf4",
            "placeholder": "​",
            "style": "IPY_MODEL_3715488fc37544649aa3ab543895b892",
            "value": "Downloading pytorch_model.bin: 100%"
          }
        },
        "5b3a80bf80c049bc98e3586a4d65df31": {
          "model_module": "@jupyter-widgets/controls",
          "model_name": "FloatProgressModel",
          "model_module_version": "1.5.0",
          "state": {
            "_dom_classes": [],
            "_model_module": "@jupyter-widgets/controls",
            "_model_module_version": "1.5.0",
            "_model_name": "FloatProgressModel",
            "_view_count": null,
            "_view_module": "@jupyter-widgets/controls",
            "_view_module_version": "1.5.0",
            "_view_name": "ProgressView",
            "bar_style": "success",
            "description": "",
            "description_tooltip": null,
            "layout": "IPY_MODEL_2e61b3213bf74175917927ca90eb7e63",
            "max": 513306857,
            "min": 0,
            "orientation": "horizontal",
            "style": "IPY_MODEL_b8a8a0219e8c484fba24946bbccc8124",
            "value": 513306857
          }
        },
        "e575236a94aa4a44831783acc3036867": {
          "model_module": "@jupyter-widgets/controls",
          "model_name": "HTMLModel",
          "model_module_version": "1.5.0",
          "state": {
            "_dom_classes": [],
            "_model_module": "@jupyter-widgets/controls",
            "_model_module_version": "1.5.0",
            "_model_name": "HTMLModel",
            "_view_count": null,
            "_view_module": "@jupyter-widgets/controls",
            "_view_module_version": "1.5.0",
            "_view_name": "HTMLView",
            "description": "",
            "description_tooltip": null,
            "layout": "IPY_MODEL_8f02a583a1a34e9789b9bc2acc9b7553",
            "placeholder": "​",
            "style": "IPY_MODEL_95e600180dc04ffc933c0aa6834dc01b",
            "value": " 513M/513M [00:19&lt;00:00, 41.5MB/s]"
          }
        },
        "4b30ca9cc95a439db58d065dcf5fb440": {
          "model_module": "@jupyter-widgets/base",
          "model_name": "LayoutModel",
          "model_module_version": "1.2.0",
          "state": {
            "_model_module": "@jupyter-widgets/base",
            "_model_module_version": "1.2.0",
            "_model_name": "LayoutModel",
            "_view_count": null,
            "_view_module": "@jupyter-widgets/base",
            "_view_module_version": "1.2.0",
            "_view_name": "LayoutView",
            "align_content": null,
            "align_items": null,
            "align_self": null,
            "border": null,
            "bottom": null,
            "display": null,
            "flex": null,
            "flex_flow": null,
            "grid_area": null,
            "grid_auto_columns": null,
            "grid_auto_flow": null,
            "grid_auto_rows": null,
            "grid_column": null,
            "grid_gap": null,
            "grid_row": null,
            "grid_template_areas": null,
            "grid_template_columns": null,
            "grid_template_rows": null,
            "height": null,
            "justify_content": null,
            "justify_items": null,
            "left": null,
            "margin": null,
            "max_height": null,
            "max_width": null,
            "min_height": null,
            "min_width": null,
            "object_fit": null,
            "object_position": null,
            "order": null,
            "overflow": null,
            "overflow_x": null,
            "overflow_y": null,
            "padding": null,
            "right": null,
            "top": null,
            "visibility": null,
            "width": null
          }
        },
        "319e17cb1749499c80d6ded4dfcb6cf4": {
          "model_module": "@jupyter-widgets/base",
          "model_name": "LayoutModel",
          "model_module_version": "1.2.0",
          "state": {
            "_model_module": "@jupyter-widgets/base",
            "_model_module_version": "1.2.0",
            "_model_name": "LayoutModel",
            "_view_count": null,
            "_view_module": "@jupyter-widgets/base",
            "_view_module_version": "1.2.0",
            "_view_name": "LayoutView",
            "align_content": null,
            "align_items": null,
            "align_self": null,
            "border": null,
            "bottom": null,
            "display": null,
            "flex": null,
            "flex_flow": null,
            "grid_area": null,
            "grid_auto_columns": null,
            "grid_auto_flow": null,
            "grid_auto_rows": null,
            "grid_column": null,
            "grid_gap": null,
            "grid_row": null,
            "grid_template_areas": null,
            "grid_template_columns": null,
            "grid_template_rows": null,
            "height": null,
            "justify_content": null,
            "justify_items": null,
            "left": null,
            "margin": null,
            "max_height": null,
            "max_width": null,
            "min_height": null,
            "min_width": null,
            "object_fit": null,
            "object_position": null,
            "order": null,
            "overflow": null,
            "overflow_x": null,
            "overflow_y": null,
            "padding": null,
            "right": null,
            "top": null,
            "visibility": null,
            "width": null
          }
        },
        "3715488fc37544649aa3ab543895b892": {
          "model_module": "@jupyter-widgets/controls",
          "model_name": "DescriptionStyleModel",
          "model_module_version": "1.5.0",
          "state": {
            "_model_module": "@jupyter-widgets/controls",
            "_model_module_version": "1.5.0",
            "_model_name": "DescriptionStyleModel",
            "_view_count": null,
            "_view_module": "@jupyter-widgets/base",
            "_view_module_version": "1.2.0",
            "_view_name": "StyleView",
            "description_width": ""
          }
        },
        "2e61b3213bf74175917927ca90eb7e63": {
          "model_module": "@jupyter-widgets/base",
          "model_name": "LayoutModel",
          "model_module_version": "1.2.0",
          "state": {
            "_model_module": "@jupyter-widgets/base",
            "_model_module_version": "1.2.0",
            "_model_name": "LayoutModel",
            "_view_count": null,
            "_view_module": "@jupyter-widgets/base",
            "_view_module_version": "1.2.0",
            "_view_name": "LayoutView",
            "align_content": null,
            "align_items": null,
            "align_self": null,
            "border": null,
            "bottom": null,
            "display": null,
            "flex": null,
            "flex_flow": null,
            "grid_area": null,
            "grid_auto_columns": null,
            "grid_auto_flow": null,
            "grid_auto_rows": null,
            "grid_column": null,
            "grid_gap": null,
            "grid_row": null,
            "grid_template_areas": null,
            "grid_template_columns": null,
            "grid_template_rows": null,
            "height": null,
            "justify_content": null,
            "justify_items": null,
            "left": null,
            "margin": null,
            "max_height": null,
            "max_width": null,
            "min_height": null,
            "min_width": null,
            "object_fit": null,
            "object_position": null,
            "order": null,
            "overflow": null,
            "overflow_x": null,
            "overflow_y": null,
            "padding": null,
            "right": null,
            "top": null,
            "visibility": null,
            "width": null
          }
        },
        "b8a8a0219e8c484fba24946bbccc8124": {
          "model_module": "@jupyter-widgets/controls",
          "model_name": "ProgressStyleModel",
          "model_module_version": "1.5.0",
          "state": {
            "_model_module": "@jupyter-widgets/controls",
            "_model_module_version": "1.5.0",
            "_model_name": "ProgressStyleModel",
            "_view_count": null,
            "_view_module": "@jupyter-widgets/base",
            "_view_module_version": "1.2.0",
            "_view_name": "StyleView",
            "bar_color": null,
            "description_width": ""
          }
        },
        "8f02a583a1a34e9789b9bc2acc9b7553": {
          "model_module": "@jupyter-widgets/base",
          "model_name": "LayoutModel",
          "model_module_version": "1.2.0",
          "state": {
            "_model_module": "@jupyter-widgets/base",
            "_model_module_version": "1.2.0",
            "_model_name": "LayoutModel",
            "_view_count": null,
            "_view_module": "@jupyter-widgets/base",
            "_view_module_version": "1.2.0",
            "_view_name": "LayoutView",
            "align_content": null,
            "align_items": null,
            "align_self": null,
            "border": null,
            "bottom": null,
            "display": null,
            "flex": null,
            "flex_flow": null,
            "grid_area": null,
            "grid_auto_columns": null,
            "grid_auto_flow": null,
            "grid_auto_rows": null,
            "grid_column": null,
            "grid_gap": null,
            "grid_row": null,
            "grid_template_areas": null,
            "grid_template_columns": null,
            "grid_template_rows": null,
            "height": null,
            "justify_content": null,
            "justify_items": null,
            "left": null,
            "margin": null,
            "max_height": null,
            "max_width": null,
            "min_height": null,
            "min_width": null,
            "object_fit": null,
            "object_position": null,
            "order": null,
            "overflow": null,
            "overflow_x": null,
            "overflow_y": null,
            "padding": null,
            "right": null,
            "top": null,
            "visibility": null,
            "width": null
          }
        },
        "95e600180dc04ffc933c0aa6834dc01b": {
          "model_module": "@jupyter-widgets/controls",
          "model_name": "DescriptionStyleModel",
          "model_module_version": "1.5.0",
          "state": {
            "_model_module": "@jupyter-widgets/controls",
            "_model_module_version": "1.5.0",
            "_model_name": "DescriptionStyleModel",
            "_view_count": null,
            "_view_module": "@jupyter-widgets/base",
            "_view_module_version": "1.2.0",
            "_view_name": "StyleView",
            "description_width": ""
          }
        }
      }
    }
  },
  "cells": [
    {
      "cell_type": "markdown",
      "metadata": {
        "id": "view-in-github",
        "colab_type": "text"
      },
      "source": [
        "<a href=\"https://colab.research.google.com/github/guscldns/PoD2DiC/blob/main/Total_Flow_testing.ipynb\" target=\"_parent\"><img src=\"https://colab.research.google.com/assets/colab-badge.svg\" alt=\"Open In Colab\"/></a>"
      ]
    },
    {
      "cell_type": "markdown",
      "source": [
        "## 이미지 detecting"
      ],
      "metadata": {
        "id": "ARUhsAFv7SoN"
      }
    },
    {
      "cell_type": "markdown",
      "source": [
        "### importing"
      ],
      "metadata": {
        "id": "otgumVnt7V8b"
      }
    },
    {
      "cell_type": "code",
      "source": [
        "! pip install transformers"
      ],
      "metadata": {
        "colab": {
          "base_uri": "https://localhost:8080/"
        },
        "id": "UNhtakmzEoDO",
        "outputId": "181cc950-779b-481b-ec02-fa3bd45216db"
      },
      "execution_count": null,
      "outputs": [
        {
          "output_type": "stream",
          "name": "stdout",
          "text": [
            "Collecting transformers\n",
            "  Downloading transformers-4.30.2-py3-none-any.whl (7.2 MB)\n",
            "\u001b[2K     \u001b[90m━━━━━━━━━━━━━━━━━━━━━━━━━━━━━━━━━━━━━━━━\u001b[0m \u001b[32m7.2/7.2 MB\u001b[0m \u001b[31m50.5 MB/s\u001b[0m eta \u001b[36m0:00:00\u001b[0m\n",
            "\u001b[?25hRequirement already satisfied: filelock in /usr/local/lib/python3.10/dist-packages (from transformers) (3.12.2)\n",
            "Collecting huggingface-hub<1.0,>=0.14.1 (from transformers)\n",
            "  Downloading huggingface_hub-0.16.4-py3-none-any.whl (268 kB)\n",
            "\u001b[2K     \u001b[90m━━━━━━━━━━━━━━━━━━━━━━━━━━━━━━━━━━━━━━\u001b[0m \u001b[32m268.8/268.8 kB\u001b[0m \u001b[31m28.9 MB/s\u001b[0m eta \u001b[36m0:00:00\u001b[0m\n",
            "\u001b[?25hRequirement already satisfied: numpy>=1.17 in /usr/local/lib/python3.10/dist-packages (from transformers) (1.22.4)\n",
            "Requirement already satisfied: packaging>=20.0 in /usr/local/lib/python3.10/dist-packages (from transformers) (23.1)\n",
            "Requirement already satisfied: pyyaml>=5.1 in /usr/local/lib/python3.10/dist-packages (from transformers) (6.0)\n",
            "Requirement already satisfied: regex!=2019.12.17 in /usr/local/lib/python3.10/dist-packages (from transformers) (2022.10.31)\n",
            "Requirement already satisfied: requests in /usr/local/lib/python3.10/dist-packages (from transformers) (2.27.1)\n",
            "Collecting tokenizers!=0.11.3,<0.14,>=0.11.1 (from transformers)\n",
            "  Downloading tokenizers-0.13.3-cp310-cp310-manylinux_2_17_x86_64.manylinux2014_x86_64.whl (7.8 MB)\n",
            "\u001b[2K     \u001b[90m━━━━━━━━━━━━━━━━━━━━━━━━━━━━━━━━━━━━━━━━\u001b[0m \u001b[32m7.8/7.8 MB\u001b[0m \u001b[31m88.9 MB/s\u001b[0m eta \u001b[36m0:00:00\u001b[0m\n",
            "\u001b[?25hCollecting safetensors>=0.3.1 (from transformers)\n",
            "  Downloading safetensors-0.3.1-cp310-cp310-manylinux_2_17_x86_64.manylinux2014_x86_64.whl (1.3 MB)\n",
            "\u001b[2K     \u001b[90m━━━━━━━━━━━━━━━━━━━━━━━━━━━━━━━━━━━━━━━━\u001b[0m \u001b[32m1.3/1.3 MB\u001b[0m \u001b[31m81.2 MB/s\u001b[0m eta \u001b[36m0:00:00\u001b[0m\n",
            "\u001b[?25hRequirement already satisfied: tqdm>=4.27 in /usr/local/lib/python3.10/dist-packages (from transformers) (4.65.0)\n",
            "Requirement already satisfied: fsspec in /usr/local/lib/python3.10/dist-packages (from huggingface-hub<1.0,>=0.14.1->transformers) (2023.6.0)\n",
            "Requirement already satisfied: typing-extensions>=3.7.4.3 in /usr/local/lib/python3.10/dist-packages (from huggingface-hub<1.0,>=0.14.1->transformers) (4.7.1)\n",
            "Requirement already satisfied: urllib3<1.27,>=1.21.1 in /usr/local/lib/python3.10/dist-packages (from requests->transformers) (1.26.16)\n",
            "Requirement already satisfied: certifi>=2017.4.17 in /usr/local/lib/python3.10/dist-packages (from requests->transformers) (2023.5.7)\n",
            "Requirement already satisfied: charset-normalizer~=2.0.0 in /usr/local/lib/python3.10/dist-packages (from requests->transformers) (2.0.12)\n",
            "Requirement already satisfied: idna<4,>=2.5 in /usr/local/lib/python3.10/dist-packages (from requests->transformers) (3.4)\n",
            "Installing collected packages: tokenizers, safetensors, huggingface-hub, transformers\n",
            "Successfully installed huggingface-hub-0.16.4 safetensors-0.3.1 tokenizers-0.13.3 transformers-4.30.2\n"
          ]
        }
      ]
    },
    {
      "cell_type": "code",
      "execution_count": null,
      "metadata": {
        "id": "L6yZiy7Lnzyv"
      },
      "outputs": [],
      "source": [
        "import numpy as np\n",
        "import os\n",
        "import PIL\n",
        "import PIL.Image\n",
        "import tensorflow as tf\n",
        "import tensorflow_datasets as tfds\n",
        "from tensorflow.keras.applications.resnet50 import ResNet50\n",
        "from tensorflow.keras import datasets, layers, models\n",
        "from PIL import Image\n",
        "#dir(tf.keras.applications)\n",
        "import matplotlib.pyplot as plt\n",
        "from tqdm import tqdm\n",
        "import requests\n",
        "import torch\n",
        "from transformers import AutoTokenizer, AutoModelForCausalLM"
      ]
    },
    {
      "cell_type": "markdown",
      "source": [
        "### model bring-in to set up"
      ],
      "metadata": {
        "id": "qsbw6hMk7ZwO"
      }
    },
    {
      "cell_type": "code",
      "source": [
        "model = ResNet50(include_top=True, input_shape = (224, 224 ,3), weights = 'imagenet')"
      ],
      "metadata": {
        "id": "d1EdXsh-omu1",
        "colab": {
          "base_uri": "https://localhost:8080/"
        },
        "outputId": "e17da4ec-ad62-4894-8e8c-e2ac2929e658"
      },
      "execution_count": null,
      "outputs": [
        {
          "output_type": "stream",
          "name": "stdout",
          "text": [
            "Downloading data from https://storage.googleapis.com/tensorflow/keras-applications/resnet/resnet50_weights_tf_dim_ordering_tf_kernels.h5\n",
            "102967424/102967424 [==============================] - 3s 0us/step\n"
          ]
        }
      ]
    },
    {
      "cell_type": "markdown",
      "source": [
        "### image load-up"
      ],
      "metadata": {
        "id": "GnPlQX367yr5"
      }
    },
    {
      "cell_type": "code",
      "source": [
        "file_path = '/content/test.jpg'\n",
        "image = Image.open(file_path)\n",
        "plt.imshow(image)"
      ],
      "metadata": {
        "id": "E5eAvTm8n0db",
        "colab": {
          "base_uri": "https://localhost:8080/",
          "height": 453
        },
        "outputId": "a236622b-bd39-43d6-9cc1-862e227fc11b"
      },
      "execution_count": null,
      "outputs": [
        {
          "output_type": "execute_result",
          "data": {
            "text/plain": [
              "<matplotlib.image.AxesImage at 0x7f6743342da0>"
            ]
          },
          "metadata": {},
          "execution_count": 4
        },
        {
          "output_type": "display_data",
          "data": {
            "text/plain": [
              "<Figure size 640x480 with 1 Axes>"
            ],
            "image/png": "[encoded data removed]"
          },
          "metadata": {}
        }
      ]
    },
    {
      "cell_type": "code",
      "source": [
        "# min-pooling 함수 정의\n",
        "\n",
        "def minpool2d(input_data, pool_size):\n",
        "\n",
        "\n",
        "    input_height, input_width, input_channels = input_data.shape\n",
        "    pool_height, pool_width = pool_size\n",
        "\n",
        "    output_height = input_height // pool_height\n",
        "    output_width = input_width // pool_width\n",
        "\n",
        "    pooled_output = np.zeros_like(input_data)\n",
        "\n",
        "    for h in range(output_height):\n",
        "        for w in range(output_width):\n",
        "            start_h = h * pool_height\n",
        "            end_h = start_h + pool_height\n",
        "            start_w = w * pool_width\n",
        "            end_w = start_w + pool_width\n",
        "\n",
        "            pooled_output[start_h:end_h, start_w:end_w, :] = np.min(input_data[start_h:end_h, start_w:end_w, :], axis=(0, 1))\n",
        "\n",
        "    return pooled_output"
      ],
      "metadata": {
        "id": "HyfPbcQR7ucy"
      },
      "execution_count": null,
      "outputs": []
    },
    {
      "cell_type": "markdown",
      "source": [
        "### detecting 함수 정의"
      ],
      "metadata": {
        "id": "KtADrcCNQass"
      }
    },
    {
      "cell_type": "code",
      "source": [
        "def detection(image, overwrap = 0.75, window_div_list = [1.0, 0.9, 0.8, 0.7, 0.6, 0.5, 0.4, 0.3, 0.2, 0.1], top_score_k = -1, top_k = 5):\n",
        "# image : input 이미지 데이터\n",
        "# window_div_list : 윈도우 사이즈 분위수(예. 4로 할 시 이미지 사이즈)  -> 리스트로 넣어준다. 한개만 넣더라도. default 값은  [1,2,4,8]\n",
        "# top_score_k : detection함수 종료 시 score 높은 순으로 몇 개 키워드를 출력할지  (default는 끝까지 출력 [:-1])   -> int값 넣어준다.\n",
        "# stride : 윈도우 이동시길 step(픽셀단위임)  -> int값 넣어준다.\n",
        "# top_k : 윈도우 별로 모델이 예측한 결과에서 확률이 가장 높은 top_k개를 가져온다.  -> int값 넣어준다. default 값은 5\n",
        "\n",
        "    chk_img = np.array(image).reshape(1,np.array(image).shape[0],np.array(image).shape[1],np.array(image).shape[2])\n",
        "    max_img = tf.keras.layers.MaxPool2D((3,3), strides = 1, padding='same')(chk_img)\n",
        "    max_img = np.array(max_img)[0]\n",
        "\n",
        "    min_img = minpool2d(chk_img[0], (3,3))\n",
        "\n",
        "    check_image = 255 - (max_img - min_img)\n",
        "    check_image = np.where(check_image>240, 255, 0)\n",
        "    count = 0\n",
        "\n",
        "    result = {}\n",
        "    Ydim, Xdim = image.size\n",
        "    best_window = []\n",
        "\n",
        "    for window_div in tqdm(window_div_list):\n",
        "\n",
        "        # X/Y중 더 긴 길이를 window_div로 나눈것이 window size다\n",
        "        window_size = int(Xdim*window_div)\n",
        "        stride = int(window_size*(1-overwrap))\n",
        "\n",
        "        for w in range(0, Xdim - window_size + 1, stride):\n",
        "            for h in range(0, Ydim - window_size + 1, stride):\n",
        "                count += 1\n",
        "                print(count, '번 들어옴')\n",
        "                check_cropped = check_image[h:window_size + h, w:window_size + w , : ]\n",
        "                if np.std(check_cropped/255) < 0.2:\n",
        "                    continue\n",
        "\n",
        "                img_cropped = image.crop((h, w, window_size + h, window_size + w))\n",
        "                img_re = np.array(img_cropped.resize((int(224), int(224)),resample = Image.ANTIALIAS))\n",
        "                input_img = np.expand_dims(img_re, axis=0)\n",
        "                predictions = model.predict(input_img)\n",
        "                predicted_class = tf.keras.applications.resnet50.decode_predictions(predictions, top=top_k)\n",
        "\n",
        "                for i in range(top_k):\n",
        "\n",
        "                    key = predicted_class[0][i][1]\n",
        "                    value = predicted_class[0][i][2]\n",
        "                    if predicted_class[0][i][2] >= 0.90:     # 00퍼센트 이상값이 나온 이미지는 따로 저장\n",
        "                        best_window.append(img_re)\n",
        "                        print(\"찾음 !! \")\n",
        "                    # score = value / (window_div)**2\n",
        "                    #score = (np.log(1-value)*(-1))**2 / (window_div)**2\n",
        "                    if key in result:\n",
        "                        if result[key] < value:\n",
        "                            result[key] = value\n",
        "                    else:\n",
        "                        result[key] = value\n",
        "\n",
        "        result = dict(sorted(result.items(), key=lambda x:x[1], reverse=True)[:top_score_k])\n",
        "    return result, best_window"
      ],
      "metadata": {
        "id": "Nle9Nq702BiS"
      },
      "execution_count": null,
      "outputs": []
    },
    {
      "cell_type": "markdown",
      "source": [
        "## 번역 함수 정의"
      ],
      "metadata": {
        "id": "f9zT8BI5CEqI"
      }
    },
    {
      "cell_type": "code",
      "source": [
        "\n",
        "def translator(keywords_list):\n",
        "    text = \", \".join(keywords_list)\n",
        "    url = \"https://deepl-translator.p.rapidapi.com/translate\"\n",
        "\n",
        "    payload = {\n",
        "        \"text\": text,\n",
        "        \"source\": \"EN\",\n",
        "        \"target\": \"KO\"\n",
        "    }\n",
        "    headers = {\n",
        "        \"content-type\": \"application/json\",\n",
        "        \"X-RapidAPI-Key\": \"42117d1d8emsh2587e836a39e252p130868jsn9d5d74311338\",\n",
        "        \"X-RapidAPI-Host\": \"deepl-translator.p.rapidapi.com\"\n",
        "    }\n",
        "\n",
        "    response = requests.post(url, json=payload, headers=headers)\n",
        "    result = response.json()['text']\n",
        "    return result"
      ],
      "metadata": {
        "id": "ASMXUhMmCHWd"
      },
      "execution_count": null,
      "outputs": []
    },
    {
      "cell_type": "code",
      "source": [
        "#test\n",
        "translator(['apple', 'keyboard'])"
      ],
      "metadata": {
        "colab": {
          "base_uri": "https://localhost:8080/",
          "height": 35
        },
        "id": "f54csGMdCHZB",
        "outputId": "600b818c-e66a-489e-8a2f-9402822f826f"
      },
      "execution_count": null,
      "outputs": [
        {
          "output_type": "execute_result",
          "data": {
            "text/plain": [
              "'사과, 키보드'"
            ],
            "application/vnd.google.colaboratory.intrinsic+json": {
              "type": "string"
            }
          },
          "metadata": {},
          "execution_count": 8
        }
      ]
    },
    {
      "cell_type": "markdown",
      "source": [
        "### peom generator 생성\n"
      ],
      "metadata": {
        "id": "cPZAbvzbD8zF"
      }
    },
    {
      "cell_type": "code",
      "source": [
        "device = torch.device(\"cuda\" if torch.cuda.is_available() else \"cpu\")\n",
        "# load model and tokenizer\n",
        "model_name_or_path = \"ddobokki/gpt2_poem\"\n",
        "\n",
        "tokenizer = AutoTokenizer.from_pretrained(model_name_or_path)\n",
        "poet_model = AutoModelForCausalLM.from_pretrained(model_name_or_path)\n",
        "poet_model.to(device)"
      ],
      "metadata": {
        "id": "IQACnFkOFLT7",
        "colab": {
          "base_uri": "https://localhost:8080/",
          "height": 667,
          "referenced_widgets": [
            "12f5a4c6033c4c45bdf1a22986446c12",
            "33a11058c2844b9082e937a7e02dd41f",
            "7cf348ecc93f4d15a6f0632de372c6d4",
            "963e3d881b0f40f2b684b0d9ca76f550",
            "d975860946bd48e7809e7edcd5f8a002",
            "d34b63d54a0f4052a19220b678ac68b4",
            "7a74f19c9dbc4348bc72ae427ed07d08",
            "8e0cfee8161e433a9cf05d8d0cf66de3",
            "98993d1bf753417caa01eb76ee002257",
            "6a71f88750a943caa9b77c283ec03790",
            "965b20b302c545cd904cb85b29c53e46",
            "6a5df56bc74144c59b4b6f3202ce5757",
            "c065884c936f45c98c09fe40feddc438",
            "03465a4d693c44df9533d0723c531643",
            "8307c5c340ec48deab46bb88ff650977",
            "bf543569f8bc4087954deb0140b8b1b6",
            "bc1b94ecab0a4f6095ed5549bc6e7ea1",
            "fc5e149360e24b22a5764e889abdd493",
            "837d03b256f444d8bdec77866c09f5fe",
            "705a9ee17d794e31867e3f0bb0cf5cb1",
            "69e0a676ce6f47fbb6c975f7990683e7",
            "cefdff42877749f29b00a7d7aa4675a9",
            "aa63f1b827a846d396894b8a99fefe22",
            "9b65b3a491a74fea89100c43dbe83fb1",
            "332881a178324c059d6c3da11c18f037",
            "269e7cfe247d4e9a8474baf0d2b630b0",
            "cf636caa64ca4ef995ce341ae4b00c32",
            "f40fd14c124c4a60aeaff428e445e2ee",
            "d93dc88d6c214692a88dd5c7727ed9eb",
            "dde08b5e9ed44844933145a5992f1146",
            "2eda3985a4c7453ebf304cb89cf54593",
            "941d42137acf42ad80300ee0e15e416a",
            "892591568205471495d30b49316059f3",
            "e85c1afdcd6f4635bde69a7cce76fd9b",
            "9a3b6234286d4e5795eae48999986d5c",
            "14083288385d4c14a2c8350418d0ce49",
            "c1088d4e691e41bcb5ad19ef04d7fa1c",
            "b8564b52fe8042fe9dd5b56ec27c6a52",
            "5ff87a9e305146dab83a61a6182673d0",
            "ae552cedcf1c4a0e812bce9eaab40409",
            "43a801beb15d46eb83a321284e478bd9",
            "b3ec4ce6d729472ab850b7616dbf5599",
            "684b03dd9a71493682db5bc31af1799c",
            "11f59219cf6245b49c480f49b796412c",
            "a99002dd9a1148e88142d7ba47591aad",
            "0c07db966d454b61a8e102ee0b8219fc",
            "5b3a80bf80c049bc98e3586a4d65df31",
            "e575236a94aa4a44831783acc3036867",
            "4b30ca9cc95a439db58d065dcf5fb440",
            "319e17cb1749499c80d6ded4dfcb6cf4",
            "3715488fc37544649aa3ab543895b892",
            "2e61b3213bf74175917927ca90eb7e63",
            "b8a8a0219e8c484fba24946bbccc8124",
            "8f02a583a1a34e9789b9bc2acc9b7553",
            "95e600180dc04ffc933c0aa6834dc01b"
          ]
        },
        "outputId": "c0604c88-cf6b-48ee-ad05-7a84006a1af8"
      },
      "execution_count": null,
      "outputs": [
        {
          "output_type": "display_data",
          "data": {
            "text/plain": [
              "Downloading (…)okenizer_config.json:   0%|          | 0.00/226 [00:00<?, ?B/s]"
            ],
            "application/vnd.jupyter.widget-view+json": {
              "version_major": 2,
              "version_minor": 0,
              "model_id": "12f5a4c6033c4c45bdf1a22986446c12"
            }
          },
          "metadata": {}
        },
        {
          "output_type": "display_data",
          "data": {
            "text/plain": [
              "Downloading (…)/main/tokenizer.json:   0%|          | 0.00/1.52M [00:00<?, ?B/s]"
            ],
            "application/vnd.jupyter.widget-view+json": {
              "version_major": 2,
              "version_minor": 0,
              "model_id": "6a5df56bc74144c59b4b6f3202ce5757"
            }
          },
          "metadata": {}
        },
        {
          "output_type": "display_data",
          "data": {
            "text/plain": [
              "Downloading (…)cial_tokens_map.json:   0%|          | 0.00/155 [00:00<?, ?B/s]"
            ],
            "application/vnd.jupyter.widget-view+json": {
              "version_major": 2,
              "version_minor": 0,
              "model_id": "aa63f1b827a846d396894b8a99fefe22"
            }
          },
          "metadata": {}
        },
        {
          "output_type": "display_data",
          "data": {
            "text/plain": [
              "Downloading (…)lve/main/config.json:   0%|          | 0.00/1.18k [00:00<?, ?B/s]"
            ],
            "application/vnd.jupyter.widget-view+json": {
              "version_major": 2,
              "version_minor": 0,
              "model_id": "e85c1afdcd6f4635bde69a7cce76fd9b"
            }
          },
          "metadata": {}
        },
        {
          "output_type": "display_data",
          "data": {
            "text/plain": [
              "Downloading pytorch_model.bin:   0%|          | 0.00/513M [00:00<?, ?B/s]"
            ],
            "application/vnd.jupyter.widget-view+json": {
              "version_major": 2,
              "version_minor": 0,
              "model_id": "a99002dd9a1148e88142d7ba47591aad"
            }
          },
          "metadata": {}
        },
        {
          "output_type": "execute_result",
          "data": {
            "text/plain": [
              "GPT2LMHeadModel(\n",
              "  (transformer): GPT2Model(\n",
              "    (wte): Embedding(51202, 768)\n",
              "    (wpe): Embedding(1024, 768)\n",
              "    (drop): Dropout(p=0.1, inplace=False)\n",
              "    (h): ModuleList(\n",
              "      (0-11): 12 x GPT2Block(\n",
              "        (ln_1): LayerNorm((768,), eps=1e-05, elementwise_affine=True)\n",
              "        (attn): GPT2Attention(\n",
              "          (c_attn): Conv1D()\n",
              "          (c_proj): Conv1D()\n",
              "          (attn_dropout): Dropout(p=0.1, inplace=False)\n",
              "          (resid_dropout): Dropout(p=0.1, inplace=False)\n",
              "        )\n",
              "        (ln_2): LayerNorm((768,), eps=1e-05, elementwise_affine=True)\n",
              "        (mlp): GPT2MLP(\n",
              "          (c_fc): Conv1D()\n",
              "          (c_proj): Conv1D()\n",
              "          (act): NewGELUActivation()\n",
              "          (dropout): Dropout(p=0.1, inplace=False)\n",
              "        )\n",
              "      )\n",
              "    )\n",
              "    (ln_f): LayerNorm((768,), eps=1e-05, elementwise_affine=True)\n",
              "  )\n",
              "  (lm_head): Linear(in_features=768, out_features=51202, bias=False)\n",
              ")"
            ]
          },
          "metadata": {},
          "execution_count": 9
        }
      ]
    },
    {
      "cell_type": "code",
      "source": [
        "def poet(input, tokenizer, poet_model):\n",
        "\n",
        "    keyword_start_token = \"<k>\"\n",
        "    keyword_end_token = \"</k>\"\n",
        "    text = input\n",
        "    input_text = keyword_start_token + text + keyword_end_token\n",
        "\n",
        "    input_ids = tokenizer.encode(input_text, return_tensors=\"pt\").to(device)\n",
        "    gen_ids = poet_model.generate(\n",
        "        input_ids, max_length=64, num_beams=100, no_repeat_ngram_size=2\n",
        "    )\n",
        "    generated = tokenizer.decode(gen_ids[0, :].tolist(), skip_special_tokens=True)\n",
        "    return generated"
      ],
      "metadata": {
        "id": "fBaL7TxNCHdZ"
      },
      "execution_count": null,
      "outputs": []
    },
    {
      "cell_type": "code",
      "source": [
        "# poet(\"사과, 키보드 그리고 음악\", tokenizer, poet_model)\n",
        "# 이런식으로 인풋 폼을 정해줘도 좋을듯. keyword1, keyword2 그리고 keyword3 이런식으"
      ],
      "metadata": {
        "id": "Tyei5DexEhyf"
      },
      "execution_count": null,
      "outputs": []
    },
    {
      "cell_type": "markdown",
      "source": [
        "## 출력\n"
      ],
      "metadata": {
        "id": "xezpYggBK3ZS"
      }
    },
    {
      "cell_type": "code",
      "source": [
        "# 이미지 디텍팅\n",
        "result, best_window = detection(image,\n",
        "                                overwrap = 0.75,\n",
        "                                top_score_k = 20,\n",
        "                                window_div_list = [1.0, 0.9, 0.8, 0.7, 0.6, 0.4, 0.35],\n",
        "                                top_k = 10)"
      ],
      "metadata": {
        "id": "EVH8N2wIK5wI",
        "colab": {
          "base_uri": "https://localhost:8080/"
        },
        "outputId": "171746b0-5d28-4410-b676-e9c171ebd63b"
      },
      "execution_count": null,
      "outputs": [
        {
          "output_type": "stream",
          "name": "stderr",
          "text": [
            "\r  0%|          | 0/7 [00:00<?, ?it/s]"
          ]
        },
        {
          "output_type": "stream",
          "name": "stdout",
          "text": [
            "1 번 들어옴\n",
            "1/1 [==============================] - 0s 31ms/step\n"
          ]
        },
        {
          "output_type": "stream",
          "name": "stderr",
          "text": [
            "\r 14%|█▍        | 1/7 [00:00<00:02,  2.08it/s]"
          ]
        },
        {
          "output_type": "stream",
          "name": "stdout",
          "text": [
            "2 번 들어옴\n",
            "1/1 [==============================] - 0s 24ms/step\n"
          ]
        },
        {
          "output_type": "stream",
          "name": "stderr",
          "text": [
            "\r 29%|██▊       | 2/7 [00:00<00:02,  2.37it/s]"
          ]
        },
        {
          "output_type": "stream",
          "name": "stdout",
          "text": [
            "3 번 들어옴\n",
            "1/1 [==============================] - 0s 41ms/step\n",
            "4 번 들어옴\n",
            "1/1 [==============================] - 0s 37ms/step\n",
            "5 번 들어옴\n",
            "1/1 [==============================] - 0s 36ms/step\n",
            "6 번 들어옴\n",
            "1/1 [==============================] - 0s 35ms/step\n"
          ]
        },
        {
          "output_type": "stream",
          "name": "stderr",
          "text": [
            "\r 43%|████▎     | 3/7 [00:02<00:03,  1.06it/s]"
          ]
        },
        {
          "output_type": "stream",
          "name": "stdout",
          "text": [
            "7 번 들어옴\n",
            "1/1 [==============================] - 0s 51ms/step\n",
            "8 번 들어옴\n",
            "1/1 [==============================] - 0s 39ms/step\n",
            "9 번 들어옴\n",
            "1/1 [==============================] - 0s 50ms/step\n",
            "10 번 들어옴\n",
            "1/1 [==============================] - 0s 40ms/step\n"
          ]
        },
        {
          "output_type": "stream",
          "name": "stderr",
          "text": [
            "\r 57%|█████▋    | 4/7 [00:03<00:03,  1.09s/it]"
          ]
        },
        {
          "output_type": "stream",
          "name": "stdout",
          "text": [
            "11 번 들어옴\n",
            "1/1 [==============================] - 0s 40ms/step\n",
            "12 번 들어옴\n",
            "1/1 [==============================] - 0s 38ms/step\n",
            "13 번 들어옴\n",
            "1/1 [==============================] - 0s 37ms/step\n",
            "14 번 들어옴\n",
            "1/1 [==============================] - 0s 45ms/step\n",
            "15 번 들어옴\n",
            "1/1 [==============================] - 0s 36ms/step\n",
            "16 번 들어옴\n",
            "1/1 [==============================] - 0s 37ms/step\n",
            "17 번 들어옴\n",
            "1/1 [==============================] - 0s 41ms/step\n",
            "18 번 들어옴\n",
            "1/1 [==============================] - 0s 45ms/step\n",
            "19 번 들어옴\n",
            "1/1 [==============================] - 0s 39ms/step\n"
          ]
        },
        {
          "output_type": "stream",
          "name": "stderr",
          "text": [
            "\r 71%|███████▏  | 5/7 [00:06<00:03,  1.54s/it]"
          ]
        },
        {
          "output_type": "stream",
          "name": "stdout",
          "text": [
            "20 번 들어옴\n",
            "1/1 [==============================] - 0s 39ms/step\n",
            "21 번 들어옴\n",
            "1/1 [==============================] - 0s 35ms/step\n",
            "22 번 들어옴\n",
            "1/1 [==============================] - 0s 37ms/step\n",
            "23 번 들어옴\n",
            "1/1 [==============================] - 0s 40ms/step\n",
            "24 번 들어옴\n",
            "1/1 [==============================] - 0s 43ms/step\n",
            "25 번 들어옴\n",
            "1/1 [==============================] - 0s 39ms/step\n",
            "26 번 들어옴\n",
            "1/1 [==============================] - 0s 45ms/step\n",
            "27 번 들어옴\n",
            "1/1 [==============================] - 0s 38ms/step\n",
            "28 번 들어옴\n",
            "1/1 [==============================] - 0s 36ms/step\n",
            "29 번 들어옴\n",
            "1/1 [==============================] - 0s 42ms/step\n",
            "30 번 들어옴\n",
            "1/1 [==============================] - 0s 23ms/step\n",
            "31 번 들어옴\n",
            "1/1 [==============================] - 0s 27ms/step\n",
            "32 번 들어옴\n",
            "1/1 [==============================] - 0s 23ms/step\n",
            "33 번 들어옴\n",
            "1/1 [==============================] - 0s 25ms/step\n",
            "34 번 들어옴\n",
            "1/1 [==============================] - 0s 24ms/step\n",
            "35 번 들어옴\n",
            "1/1 [==============================] - 0s 25ms/step\n",
            "36 번 들어옴\n",
            "1/1 [==============================] - 0s 24ms/step\n",
            "37 번 들어옴\n",
            "1/1 [==============================] - 0s 23ms/step\n",
            "38 번 들어옴\n",
            "1/1 [==============================] - 0s 35ms/step\n",
            "39 번 들어옴\n",
            "1/1 [==============================] - 0s 36ms/step\n",
            "40 번 들어옴\n",
            "1/1 [==============================] - 0s 36ms/step\n",
            "41 번 들어옴\n",
            "1/1 [==============================] - 0s 35ms/step\n",
            "42 번 들어옴\n",
            "1/1 [==============================] - 0s 35ms/step\n",
            "43 번 들어옴\n",
            "1/1 [==============================] - 0s 36ms/step\n",
            "44 번 들어옴\n",
            "1/1 [==============================] - 0s 37ms/step\n",
            "45 번 들어옴\n",
            "1/1 [==============================] - 0s 38ms/step\n",
            "46 번 들어옴\n",
            "1/1 [==============================] - 0s 36ms/step\n",
            "47 번 들어옴\n",
            "1/1 [==============================] - 0s 37ms/step\n",
            "48 번 들어옴\n",
            "1/1 [==============================] - 0s 36ms/step\n",
            "49 번 들어옴\n",
            "1/1 [==============================] - 0s 48ms/step\n",
            "50 번 들어옴\n",
            "1/1 [==============================] - 0s 38ms/step\n",
            "51 번 들어옴\n",
            "1/1 [==============================] - 0s 39ms/step\n",
            "52 번 들어옴\n",
            "1/1 [==============================] - 0s 41ms/step\n",
            "53 번 들어옴\n",
            "1/1 [==============================] - 0s 57ms/step\n",
            "54 번 들어옴\n",
            "1/1 [==============================] - 0s 38ms/step\n",
            "55 번 들어옴\n",
            "1/1 [==============================] - 0s 39ms/step\n",
            "56 번 들어옴\n",
            "1/1 [==============================] - 0s 42ms/step\n",
            "57 번 들어옴\n",
            "1/1 [==============================] - 0s 37ms/step\n",
            "58 번 들어옴\n",
            "1/1 [==============================] - 0s 39ms/step\n",
            "59 번 들어옴\n",
            "1/1 [==============================] - 0s 40ms/step\n",
            "60 번 들어옴\n",
            "1/1 [==============================] - 0s 41ms/step\n",
            "61 번 들어옴\n",
            "1/1 [==============================] - 0s 32ms/step\n",
            "62 번 들어옴\n",
            "1/1 [==============================] - 0s 25ms/step\n",
            "63 번 들어옴\n",
            "1/1 [==============================] - 0s 23ms/step\n",
            "64 번 들어옴\n",
            "1/1 [==============================] - 0s 23ms/step\n",
            "65 번 들어옴\n",
            "1/1 [==============================] - 0s 27ms/step\n",
            "66 번 들어옴\n",
            "1/1 [==============================] - 0s 24ms/step\n",
            "67 번 들어옴\n",
            "1/1 [==============================] - 0s 24ms/step\n",
            "68 번 들어옴\n",
            "1/1 [==============================] - 0s 26ms/step\n"
          ]
        },
        {
          "output_type": "stream",
          "name": "stderr",
          "text": [
            "\r 86%|████████▌ | 6/7 [00:14<00:03,  3.71s/it]"
          ]
        },
        {
          "output_type": "stream",
          "name": "stdout",
          "text": [
            "69 번 들어옴\n",
            "1/1 [==============================] - 0s 24ms/step\n",
            "70 번 들어옴\n",
            "1/1 [==============================] - 0s 27ms/step\n",
            "71 번 들어옴\n",
            "1/1 [==============================] - 0s 26ms/step\n",
            "72 번 들어옴\n",
            "1/1 [==============================] - 0s 26ms/step\n",
            "73 번 들어옴\n",
            "1/1 [==============================] - 0s 25ms/step\n",
            "74 번 들어옴\n",
            "1/1 [==============================] - 0s 23ms/step\n",
            "75 번 들어옴\n",
            "1/1 [==============================] - 0s 22ms/step\n",
            "76 번 들어옴\n",
            "1/1 [==============================] - 0s 26ms/step\n",
            "77 번 들어옴\n",
            "1/1 [==============================] - 0s 23ms/step\n",
            "78 번 들어옴\n",
            "1/1 [==============================] - 0s 35ms/step\n",
            "79 번 들어옴\n",
            "1/1 [==============================] - 0s 28ms/step\n",
            "80 번 들어옴\n",
            "1/1 [==============================] - 0s 26ms/step\n",
            "81 번 들어옴\n",
            "1/1 [==============================] - 0s 25ms/step\n",
            "82 번 들어옴\n",
            "1/1 [==============================] - 0s 25ms/step\n",
            "83 번 들어옴\n",
            "1/1 [==============================] - 0s 26ms/step\n",
            "84 번 들어옴\n",
            "1/1 [==============================] - 0s 27ms/step\n",
            "85 번 들어옴\n",
            "1/1 [==============================] - 0s 25ms/step\n",
            "86 번 들어옴\n",
            "1/1 [==============================] - 0s 26ms/step\n",
            "87 번 들어옴\n",
            "1/1 [==============================] - 0s 27ms/step\n",
            "88 번 들어옴\n",
            "1/1 [==============================] - 0s 27ms/step\n",
            "89 번 들어옴\n",
            "1/1 [==============================] - 0s 29ms/step\n",
            "90 번 들어옴\n",
            "1/1 [==============================] - 0s 27ms/step\n",
            "91 번 들어옴\n",
            "1/1 [==============================] - 0s 27ms/step\n",
            "92 번 들어옴\n",
            "1/1 [==============================] - 0s 25ms/step\n",
            "93 번 들어옴\n",
            "1/1 [==============================] - 0s 26ms/step\n",
            "94 번 들어옴\n",
            "1/1 [==============================] - 0s 27ms/step\n",
            "95 번 들어옴\n",
            "1/1 [==============================] - 0s 27ms/step\n",
            "96 번 들어옴\n",
            "1/1 [==============================] - 0s 29ms/step\n",
            "97 번 들어옴\n",
            "1/1 [==============================] - 0s 27ms/step\n",
            "98 번 들어옴\n",
            "1/1 [==============================] - 0s 25ms/step\n",
            "99 번 들어옴\n",
            "1/1 [==============================] - 0s 28ms/step\n",
            "100 번 들어옴\n",
            "1/1 [==============================] - 0s 26ms/step\n",
            "101 번 들어옴\n",
            "1/1 [==============================] - 0s 25ms/step\n",
            "102 번 들어옴\n",
            "1/1 [==============================] - 0s 28ms/step\n",
            "103 번 들어옴\n",
            "1/1 [==============================] - 0s 23ms/step\n",
            "104 번 들어옴\n",
            "1/1 [==============================] - 0s 27ms/step\n",
            "105 번 들어옴\n",
            "1/1 [==============================] - 0s 27ms/step\n",
            "106 번 들어옴\n",
            "1/1 [==============================] - 0s 27ms/step\n",
            "107 번 들어옴\n",
            "1/1 [==============================] - 0s 26ms/step\n",
            "108 번 들어옴\n",
            "1/1 [==============================] - 0s 28ms/step\n",
            "109 번 들어옴\n",
            "1/1 [==============================] - 0s 29ms/step\n",
            "찾음 !! \n",
            "110 번 들어옴\n",
            "1/1 [==============================] - 0s 29ms/step\n",
            "111 번 들어옴\n",
            "1/1 [==============================] - 0s 27ms/step\n",
            "112 번 들어옴\n",
            "1/1 [==============================] - 0s 27ms/step\n",
            "113 번 들어옴\n",
            "1/1 [==============================] - 0s 27ms/step\n",
            "114 번 들어옴\n",
            "1/1 [==============================] - 0s 28ms/step\n",
            "115 번 들어옴\n",
            "1/1 [==============================] - 0s 26ms/step\n",
            "116 번 들어옴\n",
            "1/1 [==============================] - 0s 25ms/step\n",
            "117 번 들어옴\n",
            "1/1 [==============================] - 0s 31ms/step\n",
            "찾음 !! \n",
            "118 번 들어옴\n",
            "1/1 [==============================] - 0s 27ms/step\n",
            "찾음 !! \n",
            "119 번 들어옴\n",
            "1/1 [==============================] - 0s 30ms/step\n",
            "120 번 들어옴\n",
            "1/1 [==============================] - 0s 28ms/step\n",
            "121 번 들어옴\n",
            "1/1 [==============================] - 0s 29ms/step\n",
            "122 번 들어옴\n",
            "1/1 [==============================] - 0s 25ms/step\n",
            "123 번 들어옴\n",
            "1/1 [==============================] - 0s 25ms/step\n",
            "124 번 들어옴\n",
            "1/1 [==============================] - 0s 27ms/step\n",
            "125 번 들어옴\n",
            "1/1 [==============================] - 0s 29ms/step\n",
            "126 번 들어옴\n",
            "1/1 [==============================] - 0s 29ms/step\n",
            "127 번 들어옴\n",
            "1/1 [==============================] - 0s 26ms/step\n",
            "128 번 들어옴\n",
            "1/1 [==============================] - 0s 29ms/step\n",
            "129 번 들어옴\n",
            "1/1 [==============================] - 0s 26ms/step\n",
            "130 번 들어옴\n",
            "1/1 [==============================] - 0s 26ms/step\n",
            "131 번 들어옴\n",
            "1/1 [==============================] - 0s 25ms/step\n",
            "132 번 들어옴\n",
            "1/1 [==============================] - 0s 24ms/step\n"
          ]
        },
        {
          "output_type": "stream",
          "name": "stderr",
          "text": [
            "100%|██████████| 7/7 [00:21<00:00,  3.01s/it]\n"
          ]
        }
      ]
    },
    {
      "cell_type": "code",
      "source": [
        "# 0.2까지\n",
        "result"
      ],
      "metadata": {
        "colab": {
          "base_uri": "https://localhost:8080/"
        },
        "id": "C519V1beQ2-t",
        "outputId": "a28b91d0-ac59-4a8b-f460-00a243918726"
      },
      "execution_count": null,
      "outputs": [
        {
          "output_type": "execute_result",
          "data": {
            "text/plain": [
              "{'remote_control': 0.9862077,\n",
              " 'computer_keyboard': 0.95748985,\n",
              " 'iron': 0.886397,\n",
              " 'matchstick': 0.8317974,\n",
              " 'laptop': 0.83016086,\n",
              " 'folding_chair': 0.82572436,\n",
              " 'binder': 0.82508177,\n",
              " 'crutch': 0.7458401,\n",
              " 'golfcart': 0.7315458,\n",
              " 'abacus': 0.72639513,\n",
              " 'desk': 0.7216356,\n",
              " 'notebook': 0.7120831,\n",
              " 'lighter': 0.7073524,\n",
              " 'joystick': 0.6839941,\n",
              " 'crossword_puzzle': 0.65654564,\n",
              " 'screw': 0.6552353,\n",
              " 'pick': 0.63455087,\n",
              " 'Loafer': 0.5915493,\n",
              " 'sock': 0.56716925,\n",
              " 'mouse': 0.547427}"
            ]
          },
          "metadata": {},
          "execution_count": 25
        }
      ]
    },
    {
      "cell_type": "code",
      "source": [
        "# 0.3까지\n",
        "result"
      ],
      "metadata": {
        "colab": {
          "base_uri": "https://localhost:8080/"
        },
        "id": "bvjuzxY7T8S0",
        "outputId": "649e8e8e-186c-4c08-bcdf-1884cbe09e7d"
      },
      "execution_count": null,
      "outputs": [
        {
          "output_type": "execute_result",
          "data": {
            "text/plain": [
              "{'remote_control': 0.9862077,\n",
              " 'matchstick': 0.8317974,\n",
              " 'laptop': 0.7549144,\n",
              " 'computer_keyboard': 0.7478761,\n",
              " 'desk': 0.6936896,\n",
              " 'binder': 0.670877,\n",
              " 'crossword_puzzle': 0.65654564,\n",
              " 'notebook': 0.5992766,\n",
              " 'crutch': 0.57141453,\n",
              " 'iron': 0.5019138,\n",
              " 'lab_coat': 0.45536622,\n",
              " 'mouse': 0.423666,\n",
              " 'library': 0.38895658,\n",
              " 'abacus': 0.38664457,\n",
              " 'golfcart': 0.3732606,\n",
              " 'grand_piano': 0.31064543,\n",
              " 'trombone': 0.28237033,\n",
              " 'folding_chair': 0.27358574,\n",
              " 'pick': 0.2653337,\n",
              " 'barbershop': 0.23629627}"
            ]
          },
          "metadata": {},
          "execution_count": 27
        }
      ]
    },
    {
      "cell_type": "code",
      "source": [
        "# 0.4까지 best score\n",
        "result"
      ],
      "metadata": {
        "colab": {
          "base_uri": "https://localhost:8080/"
        },
        "id": "wq3AvH0dURJd",
        "outputId": "8960bcfa-1ab8-4c58-b3fc-15aca91df006"
      },
      "execution_count": null,
      "outputs": [
        {
          "output_type": "execute_result",
          "data": {
            "text/plain": [
              "{'laptop': 0.7549144,\n",
              " 'computer_keyboard': 0.71674997,\n",
              " 'crossword_puzzle': 0.65654564,\n",
              " 'desk': 0.63093114,\n",
              " 'notebook': 0.5992766,\n",
              " 'remote_control': 0.5478576,\n",
              " 'binder': 0.45010042,\n",
              " 'mouse': 0.423666,\n",
              " 'library': 0.38895658,\n",
              " 'abacus': 0.38664457,\n",
              " 'golfcart': 0.2826491,\n",
              " 'folding_chair': 0.27358574,\n",
              " 'iron': 0.2671893,\n",
              " \"potter's_wheel\": 0.22551984,\n",
              " 'desktop_computer': 0.21261635,\n",
              " 'lab_coat': 0.20373952,\n",
              " 'grand_piano': 0.18831398,\n",
              " 'crutch': 0.185081,\n",
              " 'dishwasher': 0.15375029,\n",
              " 'photocopier': 0.13874261}"
            ]
          },
          "metadata": {},
          "execution_count": 29
        }
      ]
    },
    {
      "cell_type": "code",
      "source": [
        "# window_div_list = [1.0, 0.9, 0.8, 0.7, 0.6, 0.4, 0.35]\n",
        "result"
      ],
      "metadata": {
        "colab": {
          "base_uri": "https://localhost:8080/"
        },
        "id": "NeIcW4GoUxqc",
        "outputId": "9858c15d-a8f3-439e-c959-e397fb7fb004"
      },
      "execution_count": null,
      "outputs": [
        {
          "output_type": "execute_result",
          "data": {
            "text/plain": [
              "{'remote_control': 0.97833157,\n",
              " 'crossword_puzzle': 0.8596497,\n",
              " 'laptop': 0.7549144,\n",
              " 'matchstick': 0.7221562,\n",
              " 'computer_keyboard': 0.71674997,\n",
              " 'binder': 0.6569672,\n",
              " 'desk': 0.63093114,\n",
              " 'notebook': 0.5992766,\n",
              " 'abacus': 0.5321074,\n",
              " 'mouse': 0.423666,\n",
              " 'library': 0.38895658,\n",
              " 'rifle': 0.31311592,\n",
              " 'golfcart': 0.2826491,\n",
              " 'folding_chair': 0.27358574,\n",
              " 'iron': 0.2671893,\n",
              " \"potter's_wheel\": 0.22551984,\n",
              " 'lab_coat': 0.20373952,\n",
              " 'grand_piano': 0.18831398,\n",
              " 'crutch': 0.185081,\n",
              " 'desktop_computer': 0.18221675}"
            ]
          },
          "metadata": {},
          "execution_count": 31
        }
      ]
    },
    {
      "cell_type": "code",
      "source": [],
      "metadata": {
        "id": "8HS5UHB4VGZM"
      },
      "execution_count": null,
      "outputs": []
    },
    {
      "cell_type": "code",
      "source": [
        "# 확률높은 window 이미지 시각화\n",
        "k= len(best_window)\n",
        "for idx, best_img in enumerate(best_window):\n",
        "    plt.subplot(k//3+1, 3, idx+1)\n",
        "    plt.imshow(best_img)"
      ],
      "metadata": {
        "colab": {
          "base_uri": "https://localhost:8080/",
          "height": 211
        },
        "id": "mFF_tCCKR-xI",
        "outputId": "7ae6fac8-64b2-4309-9b0b-2f1905a65e81"
      },
      "execution_count": null,
      "outputs": [
        {
          "output_type": "display_data",
          "data": {
            "text/plain": [
              "<Figure size 640x480 with 3 Axes>"
            ],
            "image/png": "[encoded data removed]"
          },
          "metadata": {}
        }
      ]
    },
    {
      "cell_type": "code",
      "source": [
        "# 디텍팅 결과로 시 뽑기~\n",
        "\n",
        "n = 3   # 이미지에서 추출한 키워드 중 사용할 개수\n",
        "keywords = list(result.keys())[:n]\n",
        "\n",
        "kor_keywords = translator(keywords)\n",
        "\n",
        "result = poet(kor_keywords, tokenizer, poet_model)\n",
        "\n",
        "print(type(result))\n",
        "print(result)"
      ],
      "metadata": {
        "colab": {
          "base_uri": "https://localhost:8080/"
        },
        "id": "M0zVyvgyK8Di",
        "outputId": "01345d58-1c97-4a3a-b278-dc98acfe8d01"
      },
      "execution_count": null,
      "outputs": [
        {
          "output_type": "stream",
          "name": "stdout",
          "text": [
            "<class 'str'>\n",
            "컴퓨터_키보드, 책상, 노트북 컴퓨터\n",
            "키보드\n",
            "책상\n",
            "컴퓨터가 키보드를 두드린다\n",
            "아무리 두드려도\n",
            "컴퓨터는 움직이지 않는다\n",
            "책상에 가만히 앉아\n",
            "컴퓨터를 만져본다\n",
            "무언가를 만지고 싶지만\n",
            "아무것도 만질 수 없다\n",
            "컴퓨터\n"
          ]
        }
      ]
    },
    {
      "cell_type": "markdown",
      "source": [
        "To do further\n",
        "1. 최종 시 출력시 제목 구분 및 노이즈 제거 후처리\n",
        "2. 음냠"
      ],
      "metadata": {
        "id": "vAE00TetL_Hp"
      }
    },
    {
      "cell_type": "code",
      "source": [],
      "metadata": {
        "id": "eEI72y45Mi89"
      },
      "execution_count": null,
      "outputs": []
    }
  ]
}